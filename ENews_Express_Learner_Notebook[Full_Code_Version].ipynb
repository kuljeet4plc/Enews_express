{
 "cells": [
  {
   "cell_type": "markdown",
   "id": "6yDxo9u0d9Na",
   "metadata": {
    "id": "6yDxo9u0d9Na"
   },
   "source": [
    "# Project Business Statistics: E-news Express\n",
    "\n",
    "**Marks: 60**"
   ]
  },
  {
   "cell_type": "markdown",
   "id": "SrLd-ICEmPSD",
   "metadata": {
    "id": "SrLd-ICEmPSD"
   },
   "source": [
    "## Define Problem Statement and Objectives"
   ]
  },
  {
   "cell_type": "markdown",
   "id": "54cdc9d7",
   "metadata": {},
   "source": [
    "## Business Context"
   ]
  },
  {
   "cell_type": "markdown",
   "id": "08bad113",
   "metadata": {},
   "source": [
    "The advent of e-news, or electronic news, portals has offered us a great opportunity to quickly get updates on the day-to-day events occurring globally. The information on these portals is retrieved electronically from online databases, processed using a variety of software, and then transmitted to the users. There are multiple advantages of transmitting new electronically, like faster access to the content and the ability to utilize different technologies such as audio, graphics, video, and other interactive elements that are either not being used or aren’t common yet in traditional newspapers.\n",
    "\n",
    "E-news Express, an online news portal, aims to expand its business by acquiring new subscribers. With every visitor to the website taking certain actions based on their interest, the company plans to analyze these actions to understand user interests and determine how to drive better engagement. The executives at E-news Express are of the opinion that there has been a decline in new monthly subscribers compared to the past year because the current webpage is not designed well enough in terms of the outline & recommended content to keep customers engaged long enough to make a decision to subscribe.\n",
    "\n",
    "[Companies often analyze user responses to two variants of a product to decide which of the two variants is more effective. This experimental technique, known as A/B testing, is used to determine whether a new feature attracts users based on a chosen metric.]"
   ]
  },
  {
   "cell_type": "markdown",
   "id": "b10a5ea4",
   "metadata": {},
   "source": [
    "## Objective"
   ]
  },
  {
   "cell_type": "markdown",
   "id": "ccdb1b54",
   "metadata": {},
   "source": [
    "The design team of the company has researched and created a new landing page that has a new outline & more relevant content shown compared to the old page. In order to test the effectiveness of the new landing page in gathering new subscribers, the Data Science team conducted an experiment by randomly selecting 100 users and dividing them equally into two groups. The existing landing page was served to the first group (control group) and the new landing page to the second group (treatment group). Data regarding the interaction of users in both groups with the two versions of the landing page was collected. Being a data scientist in E-news Express, you have been asked to explore the data and perform a statistical analysis (at a significance level of 5%) to determine the effectiveness of the new landing page in gathering new subscribers for the news portal by answering the following questions:\n",
    "\n",
    " 1. Do the users spend more time on the new landing page than on the existing landing page?\n",
    "\n",
    " 2. Is the conversion rate (the proportion of users who visit the landing page and get converted) for the new page greater than the conversion rate for the old page?\n",
    "\n",
    " 3. Does the converted status depend on the preferred language? \n",
    "\n",
    " 4. Is the time spent on the new page the same for the different language users?\n"
   ]
  },
  {
   "cell_type": "markdown",
   "id": "46512b7a",
   "metadata": {},
   "source": [
    "### Data Dictionary"
   ]
  },
  {
   "cell_type": "markdown",
   "id": "a675fbc7",
   "metadata": {},
   "source": [
    "The data contains information regarding the interaction of users in both groups with the two versions of the landing page.\n",
    "1. user_id - Unique user ID of the person visiting the website\n",
    "2. group - Whether the user belongs to the first group (control) or the second group (treatment)\n",
    "3. landing_page - Whether the landing page is new or old\n",
    "4. time_spent_on_the_page - Time (in minutes) spent by the user on the landing page\n",
    "5. converted - Whether the user gets converted to a subscriber of the news portal or not\n",
    "6. language_preferred - Language chosen by the user to view the landing page\n"
   ]
  },
  {
   "cell_type": "markdown",
   "id": "a6a3d218",
   "metadata": {
    "id": "a6a3d218"
   },
   "source": [
    "## Import all the necessary libraries"
   ]
  },
  {
   "cell_type": "code",
   "execution_count": 227,
   "id": "658c5dec",
   "metadata": {
    "id": "658c5dec"
   },
   "outputs": [],
   "source": [
    "# import libraries for data manipulation\n",
    "import numpy as np\n",
    "import pandas as pd\n",
    "\n",
    "# import libraries for data visualization\n",
    "import matplotlib.pyplot as plt\n",
    "import seaborn as sns\n",
    "%matplotlib inline\n",
    "\n",
    "#impoert libraries for statistics \n",
    "import scipy.stats as stats\n"
   ]
  },
  {
   "cell_type": "markdown",
   "id": "6970dd99",
   "metadata": {
    "id": "6970dd99"
   },
   "source": [
    "## Reading the Data into a DataFrame"
   ]
  },
  {
   "cell_type": "code",
   "execution_count": 287,
   "id": "d3b95640",
   "metadata": {
    "id": "d3b95640"
   },
   "outputs": [],
   "source": [
    "# reading data from the file\n",
    "df = pd.read_csv(\"C:/Phython/abtest.csv\")"
   ]
  },
  {
   "cell_type": "markdown",
   "id": "9d75cfa2",
   "metadata": {
    "id": "9d75cfa2"
   },
   "source": [
    "## Explore the dataset and extract insights using Exploratory Data Analysis"
   ]
  },
  {
   "cell_type": "markdown",
   "id": "27201534",
   "metadata": {
    "id": "27201534"
   },
   "source": [
    "- Data Overview\n",
    "  - Viewing the first and last few rows of the dataset\n",
    "  - Checking the shape of the dataset\n",
    "  - Getting the statistical summary for the variables\n",
    "- Check for missing values\n",
    "- Check for duplicates"
   ]
  },
  {
   "cell_type": "code",
   "execution_count": 288,
   "id": "e1ad11d4",
   "metadata": {
    "id": "e1ad11d4",
    "scrolled": true
   },
   "outputs": [
    {
     "data": {
      "text/html": [
       "<div>\n",
       "<style scoped>\n",
       "    .dataframe tbody tr th:only-of-type {\n",
       "        vertical-align: middle;\n",
       "    }\n",
       "\n",
       "    .dataframe tbody tr th {\n",
       "        vertical-align: top;\n",
       "    }\n",
       "\n",
       "    .dataframe thead th {\n",
       "        text-align: right;\n",
       "    }\n",
       "</style>\n",
       "<table border=\"1\" class=\"dataframe\">\n",
       "  <thead>\n",
       "    <tr style=\"text-align: right;\">\n",
       "      <th></th>\n",
       "      <th>user_id</th>\n",
       "      <th>group</th>\n",
       "      <th>landing_page</th>\n",
       "      <th>time_spent_on_the_page</th>\n",
       "      <th>converted</th>\n",
       "      <th>language_preferred</th>\n",
       "    </tr>\n",
       "  </thead>\n",
       "  <tbody>\n",
       "    <tr>\n",
       "      <th>0</th>\n",
       "      <td>546592</td>\n",
       "      <td>control</td>\n",
       "      <td>old</td>\n",
       "      <td>3.48</td>\n",
       "      <td>no</td>\n",
       "      <td>Spanish</td>\n",
       "    </tr>\n",
       "    <tr>\n",
       "      <th>1</th>\n",
       "      <td>546468</td>\n",
       "      <td>treatment</td>\n",
       "      <td>new</td>\n",
       "      <td>7.13</td>\n",
       "      <td>yes</td>\n",
       "      <td>English</td>\n",
       "    </tr>\n",
       "    <tr>\n",
       "      <th>2</th>\n",
       "      <td>546462</td>\n",
       "      <td>treatment</td>\n",
       "      <td>new</td>\n",
       "      <td>4.40</td>\n",
       "      <td>no</td>\n",
       "      <td>Spanish</td>\n",
       "    </tr>\n",
       "    <tr>\n",
       "      <th>3</th>\n",
       "      <td>546567</td>\n",
       "      <td>control</td>\n",
       "      <td>old</td>\n",
       "      <td>3.02</td>\n",
       "      <td>no</td>\n",
       "      <td>French</td>\n",
       "    </tr>\n",
       "    <tr>\n",
       "      <th>4</th>\n",
       "      <td>546459</td>\n",
       "      <td>treatment</td>\n",
       "      <td>new</td>\n",
       "      <td>4.75</td>\n",
       "      <td>yes</td>\n",
       "      <td>Spanish</td>\n",
       "    </tr>\n",
       "  </tbody>\n",
       "</table>\n",
       "</div>"
      ],
      "text/plain": [
       "   user_id      group landing_page  time_spent_on_the_page converted  \\\n",
       "0   546592    control          old                    3.48        no   \n",
       "1   546468  treatment          new                    7.13       yes   \n",
       "2   546462  treatment          new                    4.40        no   \n",
       "3   546567    control          old                    3.02        no   \n",
       "4   546459  treatment          new                    4.75       yes   \n",
       "\n",
       "  language_preferred  \n",
       "0            Spanish  \n",
       "1            English  \n",
       "2            Spanish  \n",
       "3             French  \n",
       "4            Spanish  "
      ]
     },
     "execution_count": 288,
     "metadata": {},
     "output_type": "execute_result"
    }
   ],
   "source": [
    "#First 5 rows\n",
    "df.head()"
   ]
  },
  {
   "cell_type": "markdown",
   "id": "b0c86382",
   "metadata": {},
   "source": [
    "Observation:\n",
    "\n",
    "The dataframe has 6 columns and each row represents usage statistics for individual user-ids for the e-news website."
   ]
  },
  {
   "cell_type": "code",
   "execution_count": 289,
   "id": "0228cb4f",
   "metadata": {
    "scrolled": true
   },
   "outputs": [
    {
     "data": {
      "text/html": [
       "<div>\n",
       "<style scoped>\n",
       "    .dataframe tbody tr th:only-of-type {\n",
       "        vertical-align: middle;\n",
       "    }\n",
       "\n",
       "    .dataframe tbody tr th {\n",
       "        vertical-align: top;\n",
       "    }\n",
       "\n",
       "    .dataframe thead th {\n",
       "        text-align: right;\n",
       "    }\n",
       "</style>\n",
       "<table border=\"1\" class=\"dataframe\">\n",
       "  <thead>\n",
       "    <tr style=\"text-align: right;\">\n",
       "      <th></th>\n",
       "      <th>user_id</th>\n",
       "      <th>group</th>\n",
       "      <th>landing_page</th>\n",
       "      <th>time_spent_on_the_page</th>\n",
       "      <th>converted</th>\n",
       "      <th>language_preferred</th>\n",
       "    </tr>\n",
       "  </thead>\n",
       "  <tbody>\n",
       "    <tr>\n",
       "      <th>95</th>\n",
       "      <td>546446</td>\n",
       "      <td>treatment</td>\n",
       "      <td>new</td>\n",
       "      <td>5.15</td>\n",
       "      <td>no</td>\n",
       "      <td>Spanish</td>\n",
       "    </tr>\n",
       "    <tr>\n",
       "      <th>96</th>\n",
       "      <td>546544</td>\n",
       "      <td>control</td>\n",
       "      <td>old</td>\n",
       "      <td>6.52</td>\n",
       "      <td>yes</td>\n",
       "      <td>English</td>\n",
       "    </tr>\n",
       "    <tr>\n",
       "      <th>97</th>\n",
       "      <td>546472</td>\n",
       "      <td>treatment</td>\n",
       "      <td>new</td>\n",
       "      <td>7.07</td>\n",
       "      <td>yes</td>\n",
       "      <td>Spanish</td>\n",
       "    </tr>\n",
       "    <tr>\n",
       "      <th>98</th>\n",
       "      <td>546481</td>\n",
       "      <td>treatment</td>\n",
       "      <td>new</td>\n",
       "      <td>6.20</td>\n",
       "      <td>yes</td>\n",
       "      <td>Spanish</td>\n",
       "    </tr>\n",
       "    <tr>\n",
       "      <th>99</th>\n",
       "      <td>546483</td>\n",
       "      <td>treatment</td>\n",
       "      <td>new</td>\n",
       "      <td>5.86</td>\n",
       "      <td>yes</td>\n",
       "      <td>English</td>\n",
       "    </tr>\n",
       "  </tbody>\n",
       "</table>\n",
       "</div>"
      ],
      "text/plain": [
       "    user_id      group landing_page  time_spent_on_the_page converted  \\\n",
       "95   546446  treatment          new                    5.15        no   \n",
       "96   546544    control          old                    6.52       yes   \n",
       "97   546472  treatment          new                    7.07       yes   \n",
       "98   546481  treatment          new                    6.20       yes   \n",
       "99   546483  treatment          new                    5.86       yes   \n",
       "\n",
       "   language_preferred  \n",
       "95            Spanish  \n",
       "96            English  \n",
       "97            Spanish  \n",
       "98            Spanish  \n",
       "99            English  "
      ]
     },
     "execution_count": 289,
     "metadata": {},
     "output_type": "execute_result"
    }
   ],
   "source": [
    "# last 5 rows\n",
    "df.tail()"
   ]
  },
  {
   "cell_type": "code",
   "execution_count": 290,
   "id": "1855df57",
   "metadata": {},
   "outputs": [
    {
     "data": {
      "text/plain": [
       "(100, 6)"
      ]
     },
     "execution_count": 290,
     "metadata": {},
     "output_type": "execute_result"
    }
   ],
   "source": [
    "#Shape of Dataframe\n",
    "df.shape"
   ]
  },
  {
   "cell_type": "markdown",
   "id": "1ffea5ac",
   "metadata": {},
   "source": [
    "Observation: \n",
    "\n",
    "The shape of Dataframe is (100, 6) with 100 rows and 6 columns."
   ]
  },
  {
   "cell_type": "code",
   "execution_count": 293,
   "id": "c56679fc",
   "metadata": {
    "scrolled": false
   },
   "outputs": [
    {
     "name": "stdout",
     "output_type": "stream",
     "text": [
      "<class 'pandas.core.frame.DataFrame'>\n",
      "RangeIndex: 100 entries, 0 to 99\n",
      "Data columns (total 6 columns):\n",
      " #   Column                  Non-Null Count  Dtype  \n",
      "---  ------                  --------------  -----  \n",
      " 0   user_id                 100 non-null    int64  \n",
      " 1   group                   100 non-null    object \n",
      " 2   landing_page            100 non-null    object \n",
      " 3   time_spent_on_the_page  100 non-null    float64\n",
      " 4   converted               100 non-null    object \n",
      " 5   language_preferred      100 non-null    object \n",
      "dtypes: float64(1), int64(1), object(4)\n",
      "memory usage: 4.8+ KB\n"
     ]
    }
   ],
   "source": [
    "#Summary of Dataframe \n",
    "df.info()"
   ]
  },
  {
   "cell_type": "markdown",
   "id": "6c4cc6b9",
   "metadata": {},
   "source": [
    "Observations:\n",
    "\n",
    "1. The data has 2 'numerical' columns with each  type (float) and type (int).\n",
    "2. The data has 4 objects which means the presence of 4 'categorical' columns.\n",
    "3. The data has 6 distinct columns  with each having 100 'non-null' values, and no data is missing from any columns.\n",
    "\n"
   ]
  },
  {
   "cell_type": "code",
   "execution_count": 294,
   "id": "3beba7cf",
   "metadata": {},
   "outputs": [
    {
     "data": {
      "text/html": [
       "<div>\n",
       "<style scoped>\n",
       "    .dataframe tbody tr th:only-of-type {\n",
       "        vertical-align: middle;\n",
       "    }\n",
       "\n",
       "    .dataframe tbody tr th {\n",
       "        vertical-align: top;\n",
       "    }\n",
       "\n",
       "    .dataframe thead th {\n",
       "        text-align: right;\n",
       "    }\n",
       "</style>\n",
       "<table border=\"1\" class=\"dataframe\">\n",
       "  <thead>\n",
       "    <tr style=\"text-align: right;\">\n",
       "      <th></th>\n",
       "      <th>user_id</th>\n",
       "      <th>time_spent_on_the_page</th>\n",
       "    </tr>\n",
       "  </thead>\n",
       "  <tbody>\n",
       "    <tr>\n",
       "      <th>count</th>\n",
       "      <td>100.000000</td>\n",
       "      <td>100.000000</td>\n",
       "    </tr>\n",
       "    <tr>\n",
       "      <th>mean</th>\n",
       "      <td>546517.000000</td>\n",
       "      <td>5.377800</td>\n",
       "    </tr>\n",
       "    <tr>\n",
       "      <th>std</th>\n",
       "      <td>52.295779</td>\n",
       "      <td>2.378166</td>\n",
       "    </tr>\n",
       "    <tr>\n",
       "      <th>min</th>\n",
       "      <td>546443.000000</td>\n",
       "      <td>0.190000</td>\n",
       "    </tr>\n",
       "    <tr>\n",
       "      <th>25%</th>\n",
       "      <td>546467.750000</td>\n",
       "      <td>3.880000</td>\n",
       "    </tr>\n",
       "    <tr>\n",
       "      <th>50%</th>\n",
       "      <td>546492.500000</td>\n",
       "      <td>5.415000</td>\n",
       "    </tr>\n",
       "    <tr>\n",
       "      <th>75%</th>\n",
       "      <td>546567.250000</td>\n",
       "      <td>7.022500</td>\n",
       "    </tr>\n",
       "    <tr>\n",
       "      <th>max</th>\n",
       "      <td>546592.000000</td>\n",
       "      <td>10.710000</td>\n",
       "    </tr>\n",
       "  </tbody>\n",
       "</table>\n",
       "</div>"
      ],
      "text/plain": [
       "             user_id  time_spent_on_the_page\n",
       "count     100.000000              100.000000\n",
       "mean   546517.000000                5.377800\n",
       "std        52.295779                2.378166\n",
       "min    546443.000000                0.190000\n",
       "25%    546467.750000                3.880000\n",
       "50%    546492.500000                5.415000\n",
       "75%    546567.250000                7.022500\n",
       "max    546592.000000               10.710000"
      ]
     },
     "execution_count": 294,
     "metadata": {},
     "output_type": "execute_result"
    }
   ],
   "source": [
    "# Statistical summary of Dataframe\n",
    "df.describe()"
   ]
  },
  {
   "cell_type": "markdown",
   "id": "9dda8faa",
   "metadata": {},
   "source": [
    "Observation:\n",
    "    \n",
    "1. One of numerical column is user-id column represented by unique number for each user.\n",
    "2. The 2nd numerical column contains information about time spend by the users on the e-news portal website.\n",
    "3. The min time spend is .19 mins and maximum time spent on website is 10.71 mins\n",
    "4. Atleast 25% users spent more than 7.022 mins on website \n",
    "5. The mean time spent is 5.377 mins and is close to median time of 5.42 mins. "
   ]
  },
  {
   "cell_type": "code",
   "execution_count": 295,
   "id": "56fa0366",
   "metadata": {},
   "outputs": [
    {
     "data": {
      "text/html": [
       "<div>\n",
       "<style scoped>\n",
       "    .dataframe tbody tr th:only-of-type {\n",
       "        vertical-align: middle;\n",
       "    }\n",
       "\n",
       "    .dataframe tbody tr th {\n",
       "        vertical-align: top;\n",
       "    }\n",
       "\n",
       "    .dataframe thead th {\n",
       "        text-align: right;\n",
       "    }\n",
       "</style>\n",
       "<table border=\"1\" class=\"dataframe\">\n",
       "  <thead>\n",
       "    <tr style=\"text-align: right;\">\n",
       "      <th></th>\n",
       "      <th>user_id</th>\n",
       "      <th>group</th>\n",
       "      <th>landing_page</th>\n",
       "      <th>time_spent_on_the_page</th>\n",
       "      <th>converted</th>\n",
       "      <th>language_preferred</th>\n",
       "    </tr>\n",
       "  </thead>\n",
       "  <tbody>\n",
       "    <tr>\n",
       "      <th>count</th>\n",
       "      <td>100.000000</td>\n",
       "      <td>100</td>\n",
       "      <td>100</td>\n",
       "      <td>100.000000</td>\n",
       "      <td>100</td>\n",
       "      <td>100</td>\n",
       "    </tr>\n",
       "    <tr>\n",
       "      <th>unique</th>\n",
       "      <td>NaN</td>\n",
       "      <td>2</td>\n",
       "      <td>2</td>\n",
       "      <td>NaN</td>\n",
       "      <td>2</td>\n",
       "      <td>3</td>\n",
       "    </tr>\n",
       "    <tr>\n",
       "      <th>top</th>\n",
       "      <td>NaN</td>\n",
       "      <td>control</td>\n",
       "      <td>old</td>\n",
       "      <td>NaN</td>\n",
       "      <td>yes</td>\n",
       "      <td>Spanish</td>\n",
       "    </tr>\n",
       "    <tr>\n",
       "      <th>freq</th>\n",
       "      <td>NaN</td>\n",
       "      <td>50</td>\n",
       "      <td>50</td>\n",
       "      <td>NaN</td>\n",
       "      <td>54</td>\n",
       "      <td>34</td>\n",
       "    </tr>\n",
       "    <tr>\n",
       "      <th>mean</th>\n",
       "      <td>546517.000000</td>\n",
       "      <td>NaN</td>\n",
       "      <td>NaN</td>\n",
       "      <td>5.377800</td>\n",
       "      <td>NaN</td>\n",
       "      <td>NaN</td>\n",
       "    </tr>\n",
       "    <tr>\n",
       "      <th>std</th>\n",
       "      <td>52.295779</td>\n",
       "      <td>NaN</td>\n",
       "      <td>NaN</td>\n",
       "      <td>2.378166</td>\n",
       "      <td>NaN</td>\n",
       "      <td>NaN</td>\n",
       "    </tr>\n",
       "    <tr>\n",
       "      <th>min</th>\n",
       "      <td>546443.000000</td>\n",
       "      <td>NaN</td>\n",
       "      <td>NaN</td>\n",
       "      <td>0.190000</td>\n",
       "      <td>NaN</td>\n",
       "      <td>NaN</td>\n",
       "    </tr>\n",
       "    <tr>\n",
       "      <th>25%</th>\n",
       "      <td>546467.750000</td>\n",
       "      <td>NaN</td>\n",
       "      <td>NaN</td>\n",
       "      <td>3.880000</td>\n",
       "      <td>NaN</td>\n",
       "      <td>NaN</td>\n",
       "    </tr>\n",
       "    <tr>\n",
       "      <th>50%</th>\n",
       "      <td>546492.500000</td>\n",
       "      <td>NaN</td>\n",
       "      <td>NaN</td>\n",
       "      <td>5.415000</td>\n",
       "      <td>NaN</td>\n",
       "      <td>NaN</td>\n",
       "    </tr>\n",
       "    <tr>\n",
       "      <th>75%</th>\n",
       "      <td>546567.250000</td>\n",
       "      <td>NaN</td>\n",
       "      <td>NaN</td>\n",
       "      <td>7.022500</td>\n",
       "      <td>NaN</td>\n",
       "      <td>NaN</td>\n",
       "    </tr>\n",
       "    <tr>\n",
       "      <th>max</th>\n",
       "      <td>546592.000000</td>\n",
       "      <td>NaN</td>\n",
       "      <td>NaN</td>\n",
       "      <td>10.710000</td>\n",
       "      <td>NaN</td>\n",
       "      <td>NaN</td>\n",
       "    </tr>\n",
       "  </tbody>\n",
       "</table>\n",
       "</div>"
      ],
      "text/plain": [
       "              user_id    group landing_page  time_spent_on_the_page converted  \\\n",
       "count      100.000000      100          100              100.000000       100   \n",
       "unique            NaN        2            2                     NaN         2   \n",
       "top               NaN  control          old                     NaN       yes   \n",
       "freq              NaN       50           50                     NaN        54   \n",
       "mean    546517.000000      NaN          NaN                5.377800       NaN   \n",
       "std         52.295779      NaN          NaN                2.378166       NaN   \n",
       "min     546443.000000      NaN          NaN                0.190000       NaN   \n",
       "25%     546467.750000      NaN          NaN                3.880000       NaN   \n",
       "50%     546492.500000      NaN          NaN                5.415000       NaN   \n",
       "75%     546567.250000      NaN          NaN                7.022500       NaN   \n",
       "max     546592.000000      NaN          NaN               10.710000       NaN   \n",
       "\n",
       "       language_preferred  \n",
       "count                 100  \n",
       "unique                  3  \n",
       "top               Spanish  \n",
       "freq                   34  \n",
       "mean                  NaN  \n",
       "std                   NaN  \n",
       "min                   NaN  \n",
       "25%                   NaN  \n",
       "50%                   NaN  \n",
       "75%                   NaN  \n",
       "max                   NaN  "
      ]
     },
     "execution_count": 295,
     "metadata": {},
     "output_type": "execute_result"
    }
   ],
   "source": [
    "# Statistical summary of Dataframe\n",
    "df.describe(include='all')"
   ]
  },
  {
   "cell_type": "markdown",
   "id": "f7185a1f",
   "metadata": {},
   "source": [
    "Observation:\n",
    "\n",
    "1. There are 4 categorical columns in this dataframe\n",
    "2. The categorical column of 'group' has 2 unique values.\n",
    "3. The categorical column of 'landing_page' has 2 unique values.\n",
    "4. The categorical column 'converted' has more number of 'yes' which means more number of users was converted to a subscriber of the news portal from the given sample.\n",
    "5. The categorical column of 'language_preferred' has 3 unique values.\n",
    "6. More users preferred the Spanish language portal over other languages.\n",
    "7. These statistics suggest the 'control group' appears more often in the dataset.\n"
   ]
  },
  {
   "cell_type": "code",
   "execution_count": 296,
   "id": "89ad9fc3",
   "metadata": {},
   "outputs": [
    {
     "data": {
      "text/plain": [
       "user_id                   0\n",
       "group                     0\n",
       "landing_page              0\n",
       "time_spent_on_the_page    0\n",
       "converted                 0\n",
       "language_preferred        0\n",
       "dtype: int64"
      ]
     },
     "execution_count": 296,
     "metadata": {},
     "output_type": "execute_result"
    }
   ],
   "source": [
    "#if dataframe as any null value\n",
    "df.isnull().sum()"
   ]
  },
  {
   "cell_type": "markdown",
   "id": "3b31e593",
   "metadata": {},
   "source": [
    "Observation:\n",
    "\n",
    "There is no missing data in this dataframe for any column\n"
   ]
  },
  {
   "cell_type": "code",
   "execution_count": 297,
   "id": "1ec1eef4",
   "metadata": {},
   "outputs": [
    {
     "name": "stdout",
     "output_type": "stream",
     "text": [
      "Total number of duplicate values are: 0\n"
     ]
    },
    {
     "data": {
      "text/plain": [
       "False    100\n",
       "dtype: int64"
      ]
     },
     "execution_count": 297,
     "metadata": {},
     "output_type": "execute_result"
    }
   ],
   "source": [
    "# if dataframe has any duplicate values\n",
    "df.duplicated().sum()\n",
    "print('Total number of duplicate values are:', df.duplicated().sum())\n",
    "\n",
    "df.duplicated().value_counts()"
   ]
  },
  {
   "cell_type": "code",
   "execution_count": 298,
   "id": "d6cab0e1",
   "metadata": {},
   "outputs": [
    {
     "data": {
      "text/plain": [
       "100"
      ]
     },
     "execution_count": 298,
     "metadata": {},
     "output_type": "execute_result"
    }
   ],
   "source": [
    "#number of unique customer\n",
    "df['user_id'].nunique()"
   ]
  },
  {
   "cell_type": "code",
   "execution_count": 299,
   "id": "fdaec224",
   "metadata": {},
   "outputs": [
    {
     "name": "stdout",
     "output_type": "stream",
     "text": [
      "The two group used in study are:\n",
      " ['control' 'treatment']\n"
     ]
    }
   ],
   "source": [
    "# Two Unique group\n",
    "df['group'].unique()\n",
    "\n",
    "print('The two group used in study are:\\n', df['group'].unique())"
   ]
  },
  {
   "cell_type": "code",
   "execution_count": 300,
   "id": "b00ce6db",
   "metadata": {},
   "outputs": [
    {
     "name": "stdout",
     "output_type": "stream",
     "text": [
      "The two landing page compared in study are:\n",
      " ['old' 'new']\n"
     ]
    }
   ],
   "source": [
    "# Two Unique landing page\n",
    "df['landing_page'].unique()\n",
    "\n",
    "print('The two landing page compared in study are:\\n', df['landing_page'].unique())"
   ]
  },
  {
   "cell_type": "code",
   "execution_count": 301,
   "id": "27c3b265",
   "metadata": {},
   "outputs": [
    {
     "data": {
      "text/plain": [
       "array(['no', 'yes'], dtype=object)"
      ]
     },
     "execution_count": 301,
     "metadata": {},
     "output_type": "execute_result"
    }
   ],
   "source": [
    "#Converted to subscriber\n",
    "df['converted'].unique()"
   ]
  },
  {
   "cell_type": "code",
   "execution_count": 302,
   "id": "338b274b",
   "metadata": {},
   "outputs": [
    {
     "name": "stdout",
     "output_type": "stream",
     "text": [
      "Three preferred languague of users are:\n",
      " ['Spanish' 'English' 'French']\n"
     ]
    }
   ],
   "source": [
    "# Three unique langugues \n",
    "df['language_preferred'].unique()\n",
    "\n",
    "print('Three preferred languague of users are:\\n', df['language_preferred'].unique())"
   ]
  },
  {
   "cell_type": "markdown",
   "id": "8bb508a6",
   "metadata": {},
   "source": [
    "Observation:\n",
    "\n",
    "1. The data has 100 unique ids and there is no duplicate data in this dataset.\n",
    "2. The two groups in the data are control and treatment groups.\n",
    "3. The 2 unique values of 'landing_page' are old landing page and new landing page.\n",
    "4. The 3 languages are preferred by users to view landing page are Spanish, English and French."
   ]
  },
  {
   "cell_type": "markdown",
   "id": "a03f9cb6",
   "metadata": {
    "id": "68f3b2c9"
   },
   "source": [
    "### Univariate Analysis\n",
    "\n"
   ]
  },
  {
   "cell_type": "markdown",
   "id": "a1b07b26",
   "metadata": {
    "id": "1932d0f3"
   },
   "source": [
    "### Group\n",
    "------------------------------------------------------------------------------------------------------------------------------"
   ]
  },
  {
   "cell_type": "code",
   "execution_count": 303,
   "id": "93dceb09",
   "metadata": {},
   "outputs": [
    {
     "data": {
      "text/plain": [
       "control      50\n",
       "treatment    50\n",
       "Name: group, dtype: int64"
      ]
     },
     "execution_count": 303,
     "metadata": {},
     "output_type": "execute_result"
    }
   ],
   "source": [
    "#Value counts for the data\n",
    "df['group'].value_counts()"
   ]
  },
  {
   "cell_type": "code",
   "execution_count": 304,
   "id": "82b7475f",
   "metadata": {
    "scrolled": true
   },
   "outputs": [
    {
     "data": {
      "image/png": "[encoded data removed]",
      "text/plain": [
       "<Figure size 500x300 with 1 Axes>"
      ]
     },
     "metadata": {},
     "output_type": "display_data"
    }
   ],
   "source": [
    "#Countplot for categorical value: 'group'\n",
    "plt.figure(figsize = (5,3))     # to increase the figure size for graph\n",
    "\n",
    "plt.title( \"Group\", loc = 'center', fontsize = 10) # Plot title on top of plot\n",
    "\n",
    "# plot the countplot for distribution \n",
    "sns.countplot(data = df, x = 'group', palette = 'husl') \n",
    "\n",
    "plt.xlabel('group');\n"
   ]
  },
  {
   "cell_type": "markdown",
   "id": "da49093b",
   "metadata": {},
   "source": [
    "Observation:\n",
    "    \n",
    "1. As described in objective 2 groups are selected for this study with 50 users in each group for both control and treatment group.\n",
    "2. This univariate analysis of 'group' clearly shows that there are equal numbers of users in both control and treatment groups  unlike suggested by statistical summary.\n"
   ]
  },
  {
   "cell_type": "markdown",
   "id": "70fb5d13",
   "metadata": {},
   "source": [
    "### Landing Page\n",
    "--------------------------------------------------------------------------------------------------------------"
   ]
  },
  {
   "cell_type": "code",
   "execution_count": 305,
   "id": "6ebcd26f",
   "metadata": {},
   "outputs": [
    {
     "data": {
      "text/plain": [
       "old    50\n",
       "new    50\n",
       "Name: landing_page, dtype: int64"
      ]
     },
     "execution_count": 305,
     "metadata": {},
     "output_type": "execute_result"
    }
   ],
   "source": [
    "#Value counts for landing page\n",
    "df['landing_page'].value_counts()"
   ]
  },
  {
   "cell_type": "code",
   "execution_count": 306,
   "id": "f8a418aa",
   "metadata": {},
   "outputs": [
    {
     "data": {
      "image/png": "[encoded data removed]",
      "text/plain": [
       "<Figure size 500x300 with 1 Axes>"
      ]
     },
     "metadata": {},
     "output_type": "display_data"
    }
   ],
   "source": [
    "#Countplot for categorical value: 'landing Page'\n",
    "plt.figure(figsize = (5,3))  \n",
    "plt.title( \"Landing_Page\", loc = 'center', fontsize = 10) # Plot title on top of plot\n",
    "\n",
    "# plot the countplot for distribution \n",
    "sns.countplot(data = df, x = 'landing_page', palette = 'husl') \n",
    "plt.xlabel('landing_page');\n"
   ]
  },
  {
   "cell_type": "markdown",
   "id": "794c7e7e",
   "metadata": {},
   "source": [
    "Observation: \n",
    "\n",
    "1. As described in the objective above, the old landing page was served to the control group and the new landing page to the treatment group.                                   \n",
    "2. The value count of landing pages are 50 each, therefore all the users from both groups have landed on their respective pages.\n"
   ]
  },
  {
   "cell_type": "markdown",
   "id": "55e83e1d",
   "metadata": {},
   "source": [
    "### Time spend on the page\n",
    "------------------------------------------------------------------------------------------------------------------------------"
   ]
  },
  {
   "cell_type": "code",
   "execution_count": 307,
   "id": "baef8cd9",
   "metadata": {},
   "outputs": [
    {
     "data": {
      "image/png": "[encoded data removed]",
      "text/plain": [
       "<Figure size 700x500 with 1 Axes>"
      ]
     },
     "metadata": {},
     "output_type": "display_data"
    },
    {
     "data": {
      "image/png": "[encoded data removed]",
      "text/plain": [
       "<Figure size 700x500 with 1 Axes>"
      ]
     },
     "metadata": {},
     "output_type": "display_data"
    }
   ],
   "source": [
    "#Spent time: histogram and Boxplot\n",
    "plt.figure(figsize= (7,5))\n",
    "plt.title('Time spent on page', fontsize = 15) \n",
    "\n",
    "sns.histplot(data=df,x='time_spent_on_the_page', bins = 11,  kde= 'True', color = 'red')## Histogram for the time spent on news page\n",
    "plt.xlabel('time_spent_on_the_page')\n",
    "plt.show() #plt show will plot two graphs separately\n",
    " \n",
    "plt.figure(figsize= (7,5))\n",
    "sns.boxplot(data=df,x='time_spent_on_the_page') ## Boxplot for the time spent\n",
    "plt.show() \n",
    "\n"
   ]
  },
  {
   "cell_type": "markdown",
   "id": "f8552ee1",
   "metadata": {},
   "source": [
    "Observation:\n",
    "    \n",
    "1. The time spent on pages is normally distributed with a median at 5.42 mins. \n",
    "2. The min time spend is .19 mins and maximum time spent on website is 10.71 mins\n",
    "3. There are no outlier in the data.\n",
    "4. The maximum number of users at least 17, have spent around 6 mins on the webpage.\n",
    "5. Very few users around 5 only have spent more than 9 mins on the webpage."
   ]
  },
  {
   "cell_type": "markdown",
   "id": "8f254763",
   "metadata": {},
   "source": [
    "### Converted\n",
    "------------------------------------------------------------------------------------------------------------------------\n"
   ]
  },
  {
   "cell_type": "code",
   "execution_count": 308,
   "id": "3ce72115",
   "metadata": {},
   "outputs": [
    {
     "data": {
      "text/plain": [
       "yes    54\n",
       "no     46\n",
       "Name: converted, dtype: int64"
      ]
     },
     "execution_count": 308,
     "metadata": {},
     "output_type": "execute_result"
    }
   ],
   "source": [
    "#Coverted to subscriber's unique values\n",
    "df['converted'].value_counts()"
   ]
  },
  {
   "cell_type": "code",
   "execution_count": 309,
   "id": "dc9cc4e9",
   "metadata": {},
   "outputs": [
    {
     "data": {
      "image/png": "[encoded data removed]",
      "text/plain": [
       "<Figure size 500x300 with 1 Axes>"
      ]
     },
     "metadata": {},
     "output_type": "display_data"
    }
   ],
   "source": [
    "#Countplot for categorical value: 'Coverted'\n",
    "plt.figure(figsize= (5,3))\n",
    "plt.title (\"Converted\", loc = 'center', fontsize = 15) \n",
    "sns.countplot(data = df, x = 'converted')\n",
    "plt.xlabel('converted');"
   ]
  },
  {
   "cell_type": "markdown",
   "id": "95d790ef",
   "metadata": {},
   "source": [
    "Observation:\n",
    "    \n",
    "1. Total number of users that get converted to a subscriber of the news portal is 54.\n",
    "2. The difference in users that converted to subscribers is only slightly higher (8 users)than non-subscriber. \n",
    "3. The combined conversion rate from users to subscribe is around 54% for the dataset.\n"
   ]
  },
  {
   "cell_type": "raw",
   "id": "91c3885b",
   "metadata": {},
   "source": [
    "### Language Preferred\n",
    "-----------------------------------------------------------------------------------------------------------------------------"
   ]
  },
  {
   "cell_type": "code",
   "execution_count": 310,
   "id": "c8e2e085",
   "metadata": {},
   "outputs": [
    {
     "data": {
      "text/plain": [
       "Spanish    34\n",
       "French     34\n",
       "English    32\n",
       "Name: language_preferred, dtype: int64"
      ]
     },
     "execution_count": 310,
     "metadata": {},
     "output_type": "execute_result"
    }
   ],
   "source": [
    "# Value counts for preferred languages\n",
    "df['language_preferred'].value_counts()"
   ]
  },
  {
   "cell_type": "code",
   "execution_count": 311,
   "id": "1756ed88",
   "metadata": {},
   "outputs": [
    {
     "data": {
      "image/png": "[encoded data removed]",
      "text/plain": [
       "<Figure size 500x300 with 1 Axes>"
      ]
     },
     "metadata": {},
     "output_type": "display_data"
    }
   ],
   "source": [
    "#Countplot for categorical value: 'Language Preferred '\n",
    "plt.figure(figsize= (5,3))\n",
    "plt.title ('Language Preferred', loc = 'center', fontsize = 12) \n",
    "sns.countplot(data = df, x = 'language_preferred')\n",
    "plt.xlabel('language_preferred');"
   ]
  },
  {
   "cell_type": "markdown",
   "id": "915f7d9f",
   "metadata": {},
   "source": [
    "Observation:\n",
    "\n",
    "1. The landing webpage in languages Spanish or French are visited a little more (34 times) than english (32 times).\n",
    "2. This univariate analysis of 'languague_preferred' clearly shows that there are equal number visits for French and Spanish language landing pages unlike suggested by statistical summary.\n"
   ]
  },
  {
   "cell_type": "markdown",
   "id": "e69a1465",
   "metadata": {
    "id": "fad2de2f"
   },
   "source": [
    "### Bivariate Analysis"
   ]
  },
  {
   "cell_type": "markdown",
   "id": "96dc6536",
   "metadata": {
    "id": "58e9a1d0"
   },
   "source": [
    "### Landing Page vs Time spent on page\n",
    "---------------------------------------------------------------------------------------------------------------------------"
   ]
  },
  {
   "cell_type": "code",
   "execution_count": 316,
   "id": "a4a4bfa6",
   "metadata": {},
   "outputs": [
    {
     "data": {
      "image/png": "[encoded data removed]",
      "text/plain": [
       "<Figure size 700x400 with 1 Axes>"
      ]
     },
     "metadata": {},
     "output_type": "display_data"
    },
    {
     "data": {
      "image/png": "[encoded data removed]",
      "text/plain": [
       "<Figure size 700x400 with 1 Axes>"
      ]
     },
     "metadata": {},
     "output_type": "display_data"
    }
   ],
   "source": [
    "# Breaking the distribution of time wrt to landing page\n",
    "plt.figure(figsize = (7,4))\n",
    "plt.title('Landing Page vs Time spent on page', fontsize = 13)\n",
    "sns.histplot(data=df, x= 'time_spent_on_the_page', hue = 'landing_page', palette = 'bright');\n",
    "plt.show()\n",
    "plt.figure(figsize= (7,4));\n",
    "sns.boxplot(data=df,x='landing_page', y = 'time_spent_on_the_page', palette = 'bright');\n"
   ]
  },
  {
   "cell_type": "code",
   "execution_count": 317,
   "id": "ec8767a8",
   "metadata": {},
   "outputs": [
    {
     "data": {
      "image/png": "[encoded data removed]",
      "text/plain": [
       "<Figure size 700x400 with 1 Axes>"
      ]
     },
     "metadata": {},
     "output_type": "display_data"
    }
   ],
   "source": [
    "# Compare the stripplot \n",
    "plt.figure(figsize = (7,4))\n",
    "plt.title('Landing Page vs Time spent on page', fontsize = 10)\n",
    "sns.stripplot(data=df,x= \"landing_page\", y = 'time_spent_on_the_page', jitter = True, palette = 'bright')\n",
    "plt.show()"
   ]
  },
  {
   "cell_type": "markdown",
   "id": "80d04a5d",
   "metadata": {},
   "source": [
    "Observation:\n",
    "    \n",
    "1. The histogram and stripplot clearly shows average users are spending higher time on the new page compared to the old landing page.\n",
    "2. The time spent on a new page approximately lies between the range of 3 mins to 9 mins.\n",
    "3. There are outliers on both sides for new landing page data.\n",
    "4. More than 75% of users have spent at least 5 mins on a new webpage.\n",
    "5. The median time spent on a new page is around 6.3 mins comparatively higher than 4.5 mins of the old page.\n",
    "6. The distribution is widely spread from min time of .19 mins to maximum time of 10.2 mins for old landing pages.\n",
    ".\n"
   ]
  },
  {
   "cell_type": "markdown",
   "id": "ac91e185",
   "metadata": {},
   "source": [
    "### Conversion Rate vs Time spent on page\n",
    "----------------------------------------------------------------------------------------------------------------------------"
   ]
  },
  {
   "cell_type": "code",
   "execution_count": 318,
   "id": "c39557fd",
   "metadata": {},
   "outputs": [
    {
     "data": {
      "image/png": "[encoded data removed]",
      "text/plain": [
       "<Figure size 700x400 with 1 Axes>"
      ]
     },
     "metadata": {},
     "output_type": "display_data"
    },
    {
     "data": {
      "image/png": "[encoded data removed]",
      "text/plain": [
       "<Figure size 700x400 with 1 Axes>"
      ]
     },
     "metadata": {},
     "output_type": "display_data"
    }
   ],
   "source": [
    "# Breaking the distribution of time wrt to landing page\n",
    "plt.figure(figsize = (7,4))\n",
    "plt.title('Conversion vs Time spent on page', fontsize = 13)\n",
    "sns.histplot(data=df, x= 'time_spent_on_the_page', hue = 'converted');\n",
    "plt.show()\n",
    "plt.figure(figsize= (7,4));\n",
    "sns.boxplot(data=df,x='converted', y = 'time_spent_on_the_page');\n"
   ]
  },
  {
   "cell_type": "code",
   "execution_count": 320,
   "id": "9aabb691",
   "metadata": {},
   "outputs": [
    {
     "data": {
      "image/png": "[encoded data removed]",
      "text/plain": [
       "<Figure size 700x400 with 1 Axes>"
      ]
     },
     "metadata": {},
     "output_type": "display_data"
    }
   ],
   "source": [
    "# Compare the stripplot \n",
    "plt.figure(figsize = (7,4))\n",
    "plt.title('Conversion vs Time spent on page', fontsize = 10)\n",
    "sns.stripplot(data=df,x= \"converted\", y = 'time_spent_on_the_page', jitter = True);"
   ]
  },
  {
   "cell_type": "markdown",
   "id": "c69c747a",
   "metadata": {},
   "source": [
    "Observation:\n",
    "    \n",
    "1. The histogram and stripplot clearly shows higher time spent on page leads to higher conversion rate for subscription.\n",
    "2. The average spending time of 5 mins to 8 mins on a webpage increases the chances of subscription from users.\n",
    "3. There are outliers for both the distributions of the 'converted' data.\n",
    "4. The minimum time a user has spent on a page is 2.5 mins before subscribing to it.\n",
    "3. The median time spent on page is around 6.3 mins for converting into subscription as compared to 4 mins of non-subscribers.\n",
    "4. The 'no' distribution data is rightly skewed.\n",
    "\n",
    "Inference:\n",
    "\n",
    "Higher time spent (atleast 5 mins ) on a page can increase the chances of subscription from the respective user. \n"
   ]
  },
  {
   "cell_type": "markdown",
   "id": "c985b1b0",
   "metadata": {},
   "source": [
    "### Language Preferred vs Time spend on page\n",
    "----------------------------------------------------------------------------------------------------------------------"
   ]
  },
  {
   "cell_type": "code",
   "execution_count": 365,
   "id": "8d34f1fc",
   "metadata": {},
   "outputs": [
    {
     "data": {
      "image/png": "[encoded data removed]",
      "text/plain": [
       "<Figure size 700x400 with 1 Axes>"
      ]
     },
     "metadata": {},
     "output_type": "display_data"
    },
    {
     "data": {
      "image/png": "[encoded data removed]",
      "text/plain": [
       "<Figure size 700x400 with 1 Axes>"
      ]
     },
     "metadata": {},
     "output_type": "display_data"
    },
    {
     "data": {
      "image/png": "[encoded data removed]",
      "text/plain": [
       "<Figure size 700x400 with 1 Axes>"
      ]
     },
     "metadata": {},
     "output_type": "display_data"
    }
   ],
   "source": [
    "# Breaking the distribution of time wrt to landing page\n",
    "plt.figure(figsize = (7,4))\n",
    "plt.title('Language preferred vs Time spent on page', fontsize = 13)\n",
    "sns.stripplot(data=df, x='language_preferred',y ='time_spent_on_the_page',jitter = True);\n",
    "plt.show()\n",
    "\n",
    "plt.figure(figsize= (7,4));\n",
    "sns.boxplot(data=df,x='language_preferred', y = 'time_spent_on_the_page');\n",
    "plt.show() #allowes muliple graphs to be plot without superimposing on each other\n",
    "\n",
    "plt.figure(figsize= (7,4));\n",
    "sns.violinplot(data=df,x='language_preferred', y = 'time_spent_on_the_page');"
   ]
  },
  {
   "cell_type": "code",
   "execution_count": 322,
   "id": "e4788424",
   "metadata": {},
   "outputs": [
    {
     "data": {
      "text/plain": [
       "language_preferred\n",
       "English    0.22\n",
       "French     0.40\n",
       "Spanish    0.19\n",
       "Name: time_spent_on_the_page, dtype: float64"
      ]
     },
     "execution_count": 322,
     "metadata": {},
     "output_type": "execute_result"
    }
   ],
   "source": [
    "# Calculating min , max , mean time for different languagues\n",
    "\n",
    "df.groupby('language_preferred').time_spent_on_the_page.min()"
   ]
  },
  {
   "cell_type": "code",
   "execution_count": 323,
   "id": "94685bec",
   "metadata": {},
   "outputs": [
    {
     "data": {
      "text/plain": [
       "language_preferred\n",
       "English    10.50\n",
       "French     10.71\n",
       "Spanish     8.72\n",
       "Name: time_spent_on_the_page, dtype: float64"
      ]
     },
     "execution_count": 323,
     "metadata": {},
     "output_type": "execute_result"
    }
   ],
   "source": [
    "df.groupby('language_preferred').time_spent_on_the_page.max()"
   ]
  },
  {
   "cell_type": "code",
   "execution_count": 325,
   "id": "d4ff326a",
   "metadata": {},
   "outputs": [
    {
     "data": {
      "text/plain": [
       "language_preferred\n",
       "English    5.559062\n",
       "French     5.253235\n",
       "Spanish    5.331765\n",
       "Name: time_spent_on_the_page, dtype: float64"
      ]
     },
     "execution_count": 325,
     "metadata": {},
     "output_type": "execute_result"
    }
   ],
   "source": [
    "df.groupby('language_preferred').time_spent_on_the_page.mean()"
   ]
  },
  {
   "cell_type": "code",
   "execution_count": 326,
   "id": "d83a608f",
   "metadata": {},
   "outputs": [
    {
     "data": {
      "text/plain": [
       "language_preferred\n",
       "English    5.755\n",
       "French     5.315\n",
       "Spanish    5.605\n",
       "Name: time_spent_on_the_page, dtype: float64"
      ]
     },
     "execution_count": 326,
     "metadata": {},
     "output_type": "execute_result"
    }
   ],
   "source": [
    "df.groupby('language_preferred').time_spent_on_the_page.median()"
   ]
  },
  {
   "cell_type": "markdown",
   "id": "8ab4ac14",
   "metadata": {},
   "source": [
    "Observation:\n",
    "    \n",
    "1. The time spent on the french landing page is widely distributed from .4 mins to 10.71 mins.\n",
    "2. The median and mean time spent on the French landing page are quite close 5.314 mins and 5.253 mins and data is normally distributed.\n",
    "3. The time spent on the English landing page is widely distributed from .22 mins to 10.5 mins.\n",
    "4. The median and mean time spent on an English page are 5.75 mins and 5.55 mins and data is slightly left skewed.\n",
    "5. The time spent on the Spanish landing page is distributed from .19 mins to 8.72 mins.\n",
    "6. The median and mean time spent on spanish pages are 5.605 mins and 5.331 mins and data is left skewed.\n",
    "7. The violinplot clearly indicates high distribution density on the spanish page from 3.5 mins to 7.5 mins.\n",
    "\n",
    "Inference:\n",
    "\n",
    "Most users who prefer spanish pages usually stay on websites from 3.5 to 7.5 mins only and probably less interested in news portals or have low attention span as compared to english or french users.\n",
    "\n"
   ]
  },
  {
   "cell_type": "markdown",
   "id": "27906576",
   "metadata": {
    "id": "27906576"
   },
   "source": [
    "## 1. Do the users spend more time on the new landing page than the existing landing page?"
   ]
  },
  {
   "cell_type": "markdown",
   "id": "5d08d791",
   "metadata": {
    "id": "e5fdf0c8"
   },
   "source": [
    "### Perform Visual Analysis"
   ]
  },
  {
   "cell_type": "code",
   "execution_count": 327,
   "id": "6eZJa41eg21n",
   "metadata": {
    "id": "6eZJa41eg21n"
   },
   "outputs": [
    {
     "data": {
      "image/png": "[encoded data removed]",
      "text/plain": [
       "<Figure size 700x400 with 1 Axes>"
      ]
     },
     "metadata": {},
     "output_type": "display_data"
    }
   ],
   "source": [
    "#Visualize time spent on new vs old landing page\n",
    "plt.figure(figsize= (7,4));\n",
    "plt.title('Landing Page vs Time spent on page', fontsize = 10)\n",
    "sns.boxplot(data=df,x='landing_page', y = 'time_spent_on_the_page');\n",
    "plt.show()"
   ]
  },
  {
   "cell_type": "markdown",
   "id": "1da92b9d",
   "metadata": {},
   "source": [
    "Observation:\n",
    "\n",
    "1. The boxplot clearly shows average users are spending higher time on the new page compared to the old landing page.\n",
    "2. The median time spent on a new page is around 6.3 mins comparatively higher than 4.5 mins of the old page.\n",
    "3. Apart from outliers, the minimum time spent on a new page is around 3 mins, significantly higher than .19 mins for the old page. \n",
    "4. The time spent on a new page is more than 5 mins for atleast 75% of users whereas 50% of users have spent less than 4.2 mins on the old page.  \n",
    " \n",
    "Inference:\n",
    "\n",
    "We can infer the average time spent on the new page is higher than the old page, but is this difference statistically significant to conclude for the entire population?\n"
   ]
  },
  {
   "cell_type": "markdown",
   "id": "56b3dafd",
   "metadata": {
    "id": "56b3dafd"
   },
   "source": [
    "### Step 1: Define the null and alternate hypotheses"
   ]
  },
  {
   "cell_type": "markdown",
   "id": "3653b49e",
   "metadata": {},
   "source": [
    "Let  μ1, μ2  be the mean time spent on old and new page\n",
    "\n",
    "𝜇1 = Mean time spent on old page \n",
    "\n",
    "𝜇2 = Mean time spent on new page \n",
    "\n",
    "Null Hypothesis:\n",
    "\n",
    "$H_0$: 𝜇2 ≤ 𝜇1 \n",
    "\n",
    "Alternate Hypothesis: \n",
    "\n",
    "$H_a$: 𝜇2 > 𝜇1\n"
   ]
  },
  {
   "cell_type": "markdown",
   "id": "c7ee4907",
   "metadata": {
    "id": "c7ee4907"
   },
   "source": [
    "### Step 2: Select Appropriate test"
   ]
  },
  {
   "cell_type": "code",
   "execution_count": 328,
   "id": "8d31130c",
   "metadata": {
    "id": "2c183cd7"
   },
   "outputs": [
    {
     "name": "stdout",
     "output_type": "stream",
     "text": [
      "Mean time spend on new page : 6.22\n",
      "Standard Deviation for time spend on new page : 1.82\n"
     ]
    }
   ],
   "source": [
    "# Statistics of Time spend on new page \n",
    "Time_new = df.loc[df['landing_page'] == 'new']['time_spent_on_the_page']\n",
    "\n",
    "#means and sample standard deviations \n",
    "print('Mean time spend on new page :', round(Time_new.mean(), 2))\n",
    "print('Standard Deviation for time spend on new page :', round(Time_new.std(), 2))\n"
   ]
  },
  {
   "cell_type": "code",
   "execution_count": 330,
   "id": "34e463f5",
   "metadata": {},
   "outputs": [
    {
     "name": "stdout",
     "output_type": "stream",
     "text": [
      "Mean time spend on old page : 4.53\n",
      "Standard Deviation for time spend on old page : 2.58\n"
     ]
    }
   ],
   "source": [
    "# Statistics of Time spend on old page \n",
    "Time_old = df.loc[df['landing_page'] == 'old']['time_spent_on_the_page']\n",
    "\n",
    "#means and sample standard deviations \n",
    "print('Mean time spend on old page :', round(Time_old.mean(), 2))\n",
    "print('Standard Deviation for time spend on old page :', round(Time_old.std(), 2))\n"
   ]
  },
  {
   "cell_type": "markdown",
   "id": "eb5e9967",
   "metadata": {},
   "source": [
    "#### Appropiate Test"
   ]
  },
  {
   "cell_type": "markdown",
   "id": "13b2b6e7",
   "metadata": {},
   "source": [
    "This is a one-tailed test concerning two population means from two independent populations. \n",
    "The population standard deviations are unknown and standard deviation of sample is different."
   ]
  },
  {
   "cell_type": "markdown",
   "id": "f3c28623",
   "metadata": {},
   "source": [
    "#### Assumptions for T-test"
   ]
  },
  {
   "cell_type": "markdown",
   "id": "222a1c66",
   "metadata": {},
   "source": [
    "1. Continuous: The time spent on a webpage is measured on a continuous scale.\n",
    "2. Normally Distributed: Sample size for both pages is sufficiently large (≥30) therefore can be considered normally  \n",
    "3. Independent populations:  As old and new pages are assigned to two different treatment and control groups, the two samples are from two independent populations.\n",
    "4. Unequal Standard Deviation: The standard deviations for sample is different, the population standard deviations might be different too.\n",
    "5. Random selection: Data Science team conducted an experiment by randomly selecting 100 users and dividing them equally into two groups.\n",
    "\n",
    "Therefore 2 Independent Sample T-test for Equality of Means and unequal standard deviation can be used.\n"
   ]
  },
  {
   "cell_type": "markdown",
   "id": "3f58c9a7",
   "metadata": {
    "id": "3f58c9a7"
   },
   "source": [
    "### Step 3: Decide the significance level"
   ]
  },
  {
   "cell_type": "markdown",
   "id": "69fc17c1",
   "metadata": {
    "id": "92d7d7ee"
   },
   "source": [
    "As this one tail test, we select α = 0.05."
   ]
  },
  {
   "cell_type": "markdown",
   "id": "5fed2eac",
   "metadata": {
    "id": "5fed2eac"
   },
   "source": [
    "### Step 4: Collect and prepare data"
   ]
  },
  {
   "cell_type": "code",
   "execution_count": 332,
   "id": "f5a59495",
   "metadata": {
    "id": "f5a59495"
   },
   "outputs": [],
   "source": [
    "#Dataset for time spend on new page as calculated above\n",
    "Time_new = df.loc[df['landing_page'] == 'new']['time_spent_on_the_page']\n",
    "\n",
    "#Dataset for Time spend on old page as calculated above\n",
    "Time_old = df.loc[df['landing_page'] == 'old']['time_spent_on_the_page']\n"
   ]
  },
  {
   "cell_type": "markdown",
   "id": "f5c5258d",
   "metadata": {
    "id": "f5c5258d"
   },
   "source": [
    "### Step 5: Calculate the p-value"
   ]
  },
  {
   "cell_type": "code",
   "execution_count": 333,
   "id": "fac8594a",
   "metadata": {
    "id": "fac8594a"
   },
   "outputs": [
    {
     "name": "stdout",
     "output_type": "stream",
     "text": [
      "The p-value is  0.0001392381225166549\n",
      "The test_stat is 3.7867702694199856\n"
     ]
    }
   ],
   "source": [
    "#import the required functions to import function 'ttest_ind()'\n",
    "from scipy.stats import ttest_ind\n",
    "\n",
    "#Calculation of p-value\n",
    "# find the p-value\n",
    "test_stat, p_value = ttest_ind(Time_new, Time_old, equal_var = False, alternative = 'greater')\n",
    "print('The p-value is ', p_value)\n",
    "print('The test_stat is', test_stat)"
   ]
  },
  {
   "cell_type": "markdown",
   "id": "359b12f8",
   "metadata": {
    "id": "359b12f8"
   },
   "source": [
    "### Step 6: Compare the p-value with $\\alpha$"
   ]
  },
  {
   "cell_type": "code",
   "execution_count": 334,
   "id": "7be47289",
   "metadata": {
    "id": "7be47289"
   },
   "outputs": [
    {
     "name": "stdout",
     "output_type": "stream",
     "text": [
      "As the 0.0001392381225166549 is less than the level of significance, we reject the null hypothesis.\n"
     ]
    }
   ],
   "source": [
    "# print the conclusion based on p-value\n",
    "\n",
    "if p_value < 0.05:\n",
    "    print(f'As the {p_value} is less than the level of significance, we reject the null hypothesis.')\n",
    "else:\n",
    "    print(f'As the {p_value} is greater than the level of significance, we fail to reject the null hypothesis.')\n",
    "    "
   ]
  },
  {
   "cell_type": "markdown",
   "id": "d9affc84",
   "metadata": {
    "id": "d9affc84"
   },
   "source": [
    "### Step 7:  Draw inference"
   ]
  },
  {
   "cell_type": "markdown",
   "id": "673693ab",
   "metadata": {
    "id": "6b16dd4b"
   },
   "source": [
    "At a 5% significance level, we rejected the null hypothesis. Hence, we do have enough statistical evidence to say that the average time spent on new page is significantly higher than old page. "
   ]
  },
  {
   "cell_type": "markdown",
   "id": "4abfec2c",
   "metadata": {
    "id": "353e9d24"
   },
   "source": [
    "## 2. Is the conversion rate (the proportion of users who visit the landing page and get converted) for the new page greater than the conversion rate for the old page?"
   ]
  },
  {
   "cell_type": "markdown",
   "id": "4b64699a",
   "metadata": {
    "id": "b7f52898"
   },
   "source": [
    "### Perform Visual Analysis"
   ]
  },
  {
   "cell_type": "code",
   "execution_count": 336,
   "id": "2fc02dde",
   "metadata": {},
   "outputs": [
    {
     "data": {
      "text/html": [
       "<div>\n",
       "<style scoped>\n",
       "    .dataframe tbody tr th:only-of-type {\n",
       "        vertical-align: middle;\n",
       "    }\n",
       "\n",
       "    .dataframe tbody tr th {\n",
       "        vertical-align: top;\n",
       "    }\n",
       "\n",
       "    .dataframe thead th {\n",
       "        text-align: right;\n",
       "    }\n",
       "</style>\n",
       "<table border=\"1\" class=\"dataframe\">\n",
       "  <thead>\n",
       "    <tr style=\"text-align: right;\">\n",
       "      <th>converted</th>\n",
       "      <th>no</th>\n",
       "      <th>yes</th>\n",
       "      <th>All</th>\n",
       "    </tr>\n",
       "    <tr>\n",
       "      <th>landing_page</th>\n",
       "      <th></th>\n",
       "      <th></th>\n",
       "      <th></th>\n",
       "    </tr>\n",
       "  </thead>\n",
       "  <tbody>\n",
       "    <tr>\n",
       "      <th>new</th>\n",
       "      <td>17</td>\n",
       "      <td>33</td>\n",
       "      <td>50</td>\n",
       "    </tr>\n",
       "    <tr>\n",
       "      <th>old</th>\n",
       "      <td>29</td>\n",
       "      <td>21</td>\n",
       "      <td>50</td>\n",
       "    </tr>\n",
       "    <tr>\n",
       "      <th>All</th>\n",
       "      <td>46</td>\n",
       "      <td>54</td>\n",
       "      <td>100</td>\n",
       "    </tr>\n",
       "  </tbody>\n",
       "</table>\n",
       "</div>"
      ],
      "text/plain": [
       "converted     no  yes  All\n",
       "landing_page              \n",
       "new           17   33   50\n",
       "old           29   21   50\n",
       "All           46   54  100"
      ]
     },
     "execution_count": 336,
     "metadata": {},
     "output_type": "execute_result"
    }
   ],
   "source": [
    "# pandas crosstab() function is used to create a contingency table between two categorical variables\n",
    "#Contingency Table of \"landing_page\" and \"converted\"\n",
    "\n",
    "pd.crosstab(df['landing_page'], df['converted'], margins = True)"
   ]
  },
  {
   "cell_type": "code",
   "execution_count": 337,
   "id": "e5a8e078",
   "metadata": {},
   "outputs": [
    {
     "data": {
      "image/png": "[encoded data removed]",
      "text/plain": [
       "<Figure size 600x500 with 1 Axes>"
      ]
     },
     "metadata": {},
     "output_type": "display_data"
    }
   ],
   "source": [
    "# to visualize the data between two cateogrical set : Stacked bar graph \n",
    "\n",
    "pd.crosstab(df['landing_page'], df['converted'], normalize = True ).plot(kind=\"bar\", figsize=(6, 5), stacked=True)\n",
    "plt.title('Landing_page vs Converted', fontsize = 10)\n",
    "plt.xticks(rotation=45);\n"
   ]
  },
  {
   "cell_type": "markdown",
   "id": "04e55f14",
   "metadata": {},
   "source": [
    "Observation:\n",
    "    \n",
    "1. Out of 50 users landed on the new page 33 converted into subscribers, and chances of the user will convert into subscriber is 66%.\n",
    "2. Out of 50 users landed on old page 21 converted into subscribers, and chances of user will be converted to subscriber is 42%.\n",
    "\n",
    "Inference:\n",
    "\n",
    "We can infer that the conversion rate to subscription for the new page is greater than the old page. Is this difference significant enough to conclude that subscription status will increase with a new page?\n"
   ]
  },
  {
   "cell_type": "markdown",
   "id": "1ada91d5",
   "metadata": {
    "id": "56b3dafd"
   },
   "source": [
    "### Step 1: Define the null and alternate hypotheses"
   ]
  },
  {
   "cell_type": "markdown",
   "id": "d05d3c75",
   "metadata": {},
   "source": [
    "Let p1, p2 be the proportions of users who converted into subscriber\n",
    "\n",
    "p1 = Proportion of converted subscriber from old page\n",
    "\n",
    "p2 = Proportion of converted subscriber from new page\n",
    "\n",
    "Null Hypothesis:\n",
    "\n",
    "$H_0:$  p2 ≤ p1\n",
    "\n",
    "Alternate Hypothesis:\n",
    "\n",
    "$H_a:$  p2 > p1"
   ]
  },
  {
   "cell_type": "markdown",
   "id": "39dbd7db",
   "metadata": {
    "id": "c7ee4907"
   },
   "source": [
    "### Step 2: Select Appropriate test"
   ]
  },
  {
   "cell_type": "markdown",
   "id": "b12492f0",
   "metadata": {},
   "source": [
    "#### Appropiate Test"
   ]
  },
  {
   "cell_type": "markdown",
   "id": "8f7fd822",
   "metadata": {},
   "source": [
    "This is a one-tailed test regarding two population proportions from two independent populations and therefore Two Proportion Z-test can be used."
   ]
  },
  {
   "cell_type": "markdown",
   "id": "21791c69",
   "metadata": {},
   "source": [
    "#### Assumptions"
   ]
  },
  {
   "cell_type": "markdown",
   "id": "a4655af8",
   "metadata": {},
   "source": [
    "1. Binomial distribution: Either users get converted to subscribers or otherwise they do not. \n",
    "2. Independent populations: As old and new pages are assigned to two different treatment and control groups, the two samples are from two independent populations.\n",
    "3. Random selection: Data Science team conducted an experiment by randomly selecting 100 users and dividing them equally into two groups.\n",
    "4. The sample size of all the proportions in the contingency table are greater than 10. \n",
    "\n",
    "As all assumptions are met Two Proportion Z-test can be used.\n"
   ]
  },
  {
   "cell_type": "markdown",
   "id": "cf735996",
   "metadata": {
    "id": "3f58c9a7"
   },
   "source": [
    "### Step 3: Decide the significance level"
   ]
  },
  {
   "cell_type": "markdown",
   "id": "1ee7d95a",
   "metadata": {
    "id": "92d7d7ee"
   },
   "source": [
    "As this one tail test, we select α = 0.05."
   ]
  },
  {
   "cell_type": "markdown",
   "id": "d97bbe13",
   "metadata": {
    "id": "3f58c9a7"
   },
   "source": [
    "### Step 4: Collect and prepare data"
   ]
  },
  {
   "cell_type": "code",
   "execution_count": 339,
   "id": "b8b9bc4a",
   "metadata": {},
   "outputs": [
    {
     "data": {
      "text/plain": [
       "(33, 21)"
      ]
     },
     "execution_count": 339,
     "metadata": {},
     "output_type": "execute_result"
    }
   ],
   "source": [
    "# Total number of visits to new page \n",
    "New_page = 50\n",
    "\n",
    "#Total number of visits to old page  \n",
    "Old_page = 50\n",
    "\n",
    "# calculate the number of converted users from the new and old page\n",
    "Sub_new = df[df['landing_page'] == 'new']['converted'].value_counts()['yes']\n",
    "\n",
    "Sub_old = df[df['landing_page'] == 'old']['converted'].value_counts()['yes']\n",
    "\n",
    "Sub_new, Sub_old\n"
   ]
  },
  {
   "cell_type": "markdown",
   "id": "3246c872",
   "metadata": {
    "id": "f5c5258d"
   },
   "source": [
    "### Step 5: Calculate the p-value"
   ]
  },
  {
   "cell_type": "code",
   "execution_count": 341,
   "id": "25ba62ed",
   "metadata": {},
   "outputs": [
    {
     "name": "stdout",
     "output_type": "stream",
     "text": [
      "The p_value is 0.008026308204056278\n"
     ]
    }
   ],
   "source": [
    "# import the required fuction\n",
    "from statsmodels.stats.proportion import proportions_ztest\n",
    "\n",
    "test_stat, p_value = proportions_ztest([Sub_new, Sub_old] , [50, 50], alternative = 'larger' )\n",
    "\n",
    "print('The p_value is '+ str(p_value))"
   ]
  },
  {
   "cell_type": "markdown",
   "id": "15461cbc",
   "metadata": {
    "id": "359b12f8"
   },
   "source": [
    "### Step 6: Compare the p-value with $\\alpha$"
   ]
  },
  {
   "cell_type": "code",
   "execution_count": 342,
   "id": "854f349a",
   "metadata": {
    "id": "7be47289"
   },
   "outputs": [
    {
     "name": "stdout",
     "output_type": "stream",
     "text": [
      "As the 0.008026308204056278 is less than the level of significance, we reject the null hypothesis.\n"
     ]
    }
   ],
   "source": [
    "# print the conclusion based on p-value\n",
    "\n",
    "if p_value < 0.05:\n",
    "    print(f'As the {p_value} is less than the level of significance, we reject the null hypothesis.')\n",
    "else:\n",
    "    print(f'As the {p_value} is greater than the level of significance, we fail to reject the null hypothesis.')\n",
    "    "
   ]
  },
  {
   "cell_type": "markdown",
   "id": "a9232c33",
   "metadata": {
    "id": "d9affc84"
   },
   "source": [
    "### Step 7:  Draw inference"
   ]
  },
  {
   "cell_type": "markdown",
   "id": "29c20f24",
   "metadata": {
    "id": "6b16dd4b"
   },
   "source": [
    "At a 5% significance level, we rejected the null hypothesis. Hence, we do have enough statistical evidence to say that rate of users converted to subscriber for new page is higher than old page."
   ]
  },
  {
   "cell_type": "markdown",
   "id": "2e2b37c0",
   "metadata": {
    "id": "d49bfa2d"
   },
   "source": [
    "## 3. Is the conversion and preferred language are independent or related?"
   ]
  },
  {
   "cell_type": "markdown",
   "id": "b673d125",
   "metadata": {
    "id": "b7f52898"
   },
   "source": [
    "### Perform Visual Analysis"
   ]
  },
  {
   "cell_type": "code",
   "execution_count": 344,
   "id": "b0e63f17",
   "metadata": {
    "id": "b0e63f17"
   },
   "outputs": [
    {
     "data": {
      "text/html": [
       "<div>\n",
       "<style scoped>\n",
       "    .dataframe tbody tr th:only-of-type {\n",
       "        vertical-align: middle;\n",
       "    }\n",
       "\n",
       "    .dataframe tbody tr th {\n",
       "        vertical-align: top;\n",
       "    }\n",
       "\n",
       "    .dataframe thead th {\n",
       "        text-align: right;\n",
       "    }\n",
       "</style>\n",
       "<table border=\"1\" class=\"dataframe\">\n",
       "  <thead>\n",
       "    <tr style=\"text-align: right;\">\n",
       "      <th>converted</th>\n",
       "      <th>no</th>\n",
       "      <th>yes</th>\n",
       "      <th>All</th>\n",
       "    </tr>\n",
       "    <tr>\n",
       "      <th>language_preferred</th>\n",
       "      <th></th>\n",
       "      <th></th>\n",
       "      <th></th>\n",
       "    </tr>\n",
       "  </thead>\n",
       "  <tbody>\n",
       "    <tr>\n",
       "      <th>English</th>\n",
       "      <td>11</td>\n",
       "      <td>21</td>\n",
       "      <td>32</td>\n",
       "    </tr>\n",
       "    <tr>\n",
       "      <th>French</th>\n",
       "      <td>19</td>\n",
       "      <td>15</td>\n",
       "      <td>34</td>\n",
       "    </tr>\n",
       "    <tr>\n",
       "      <th>Spanish</th>\n",
       "      <td>16</td>\n",
       "      <td>18</td>\n",
       "      <td>34</td>\n",
       "    </tr>\n",
       "    <tr>\n",
       "      <th>All</th>\n",
       "      <td>46</td>\n",
       "      <td>54</td>\n",
       "      <td>100</td>\n",
       "    </tr>\n",
       "  </tbody>\n",
       "</table>\n",
       "</div>"
      ],
      "text/plain": [
       "converted           no  yes  All\n",
       "language_preferred              \n",
       "English             11   21   32\n",
       "French              19   15   34\n",
       "Spanish             16   18   34\n",
       "All                 46   54  100"
      ]
     },
     "execution_count": 344,
     "metadata": {},
     "output_type": "execute_result"
    }
   ],
   "source": [
    "# pandas crosstab() function is used to create a contingency table between two categorical variables\n",
    "#Contingency Table of \"language_preferred\" and \"converted\"\n",
    "\n",
    "pd.crosstab(df['language_preferred'], df['converted'], margins = True)"
   ]
  },
  {
   "cell_type": "code",
   "execution_count": 345,
   "id": "ab27c7dd",
   "metadata": {},
   "outputs": [
    {
     "data": {
      "image/png": "[encoded data removed]",
      "text/plain": [
       "<Figure size 600x500 with 1 Axes>"
      ]
     },
     "metadata": {},
     "output_type": "display_data"
    }
   ],
   "source": [
    "# to visualize the data between two cateogrical set : Stacked bar graph \n",
    "\n",
    "pd.crosstab(df['language_preferred'], df['converted'], normalize = 'index' ).plot(kind=\"bar\", figsize=(6, 5), stacked=True)\n",
    "plt.title('language_preferred vs Converted', fontsize = 10)\n",
    "plt.legend(bbox_to_anchor=(1, 1)) #plot the legend outside the box\n",
    "plt.xticks(rotation=45);\n"
   ]
  },
  {
   "cell_type": "markdown",
   "id": "fdbc964e",
   "metadata": {},
   "source": [
    "Observation:\n",
    "    \n",
    "1. Out of 32 users on english page 21 converted into subscribers, the chances of user converting into subscriber is 63%.\n",
    "2. Out of 34 users on the french page only 15 converted into subscribers, the chances of user converting into subscriber is only 44%.\n",
    "3. Out of 34 users on spanish page 18 converted into subscribers, the chances of user converting into subscriber is 52%.\n",
    "\n",
    "Inference:\n",
    "\n",
    "We can infer that the conversion rate of subscription does depend upon the language of the landing page. Is this difference significant enough to conclude that conversion and preferred language are interdependent?\n"
   ]
  },
  {
   "cell_type": "markdown",
   "id": "7fb3163c",
   "metadata": {
    "id": "56b3dafd"
   },
   "source": [
    "### Step 1: Define the null and alternate hypotheses"
   ]
  },
  {
   "cell_type": "markdown",
   "id": "80a85f68",
   "metadata": {},
   "source": [
    "\n",
    "$H_0:$ Conversion and preferred language are independent\n",
    "\n",
    "$H_a:$ Conversion and preferred language are not independent\n"
   ]
  },
  {
   "cell_type": "markdown",
   "id": "925aa010",
   "metadata": {
    "id": "c7ee4907"
   },
   "source": [
    "### Step 2: Select Appropriate test"
   ]
  },
  {
   "cell_type": "markdown",
   "id": "090ea8e8",
   "metadata": {},
   "source": [
    "#### Appropriate Test"
   ]
  },
  {
   "cell_type": "markdown",
   "id": "57a266a2",
   "metadata": {},
   "source": [
    "This is a problem of the test of independence, concerning two categorical variables therefore Chi-Square Test for Independence can be used for this evaluation.\n"
   ]
  },
  {
   "cell_type": "markdown",
   "id": "3486f9ee",
   "metadata": {},
   "source": [
    "#### Assumptions"
   ]
  },
  {
   "cell_type": "markdown",
   "id": "30f8c05a",
   "metadata": {},
   "source": [
    "1. Both are categorical variables.\n",
    "2. The number of observations for each level is greater than 5.\n",
    "3. Random selection: Data Science team conducted an experiment by randomly selecting 100 users and dividing them equally into two groups.\n",
    "\n",
    "As all the assumptions are met, Chi-Square Test for Independence can be used for this evaluation.\n"
   ]
  },
  {
   "cell_type": "markdown",
   "id": "8a48eb81",
   "metadata": {
    "id": "3f58c9a7"
   },
   "source": [
    "### Step 3: Decide the significance level"
   ]
  },
  {
   "cell_type": "markdown",
   "id": "c5b3ad38",
   "metadata": {},
   "source": [
    "For this problem statement, we select α = 0.05.\n"
   ]
  },
  {
   "cell_type": "markdown",
   "id": "d7e2ed51",
   "metadata": {
    "id": "3f58c9a7"
   },
   "source": [
    "### Step 4: Collect and prepare data"
   ]
  },
  {
   "cell_type": "code",
   "execution_count": 346,
   "id": "1a354baf",
   "metadata": {},
   "outputs": [
    {
     "data": {
      "text/html": [
       "<div>\n",
       "<style scoped>\n",
       "    .dataframe tbody tr th:only-of-type {\n",
       "        vertical-align: middle;\n",
       "    }\n",
       "\n",
       "    .dataframe tbody tr th {\n",
       "        vertical-align: top;\n",
       "    }\n",
       "\n",
       "    .dataframe thead th {\n",
       "        text-align: right;\n",
       "    }\n",
       "</style>\n",
       "<table border=\"1\" class=\"dataframe\">\n",
       "  <thead>\n",
       "    <tr style=\"text-align: right;\">\n",
       "      <th>converted</th>\n",
       "      <th>no</th>\n",
       "      <th>yes</th>\n",
       "    </tr>\n",
       "    <tr>\n",
       "      <th>language_preferred</th>\n",
       "      <th></th>\n",
       "      <th></th>\n",
       "    </tr>\n",
       "  </thead>\n",
       "  <tbody>\n",
       "    <tr>\n",
       "      <th>English</th>\n",
       "      <td>11</td>\n",
       "      <td>21</td>\n",
       "    </tr>\n",
       "    <tr>\n",
       "      <th>French</th>\n",
       "      <td>19</td>\n",
       "      <td>15</td>\n",
       "    </tr>\n",
       "    <tr>\n",
       "      <th>Spanish</th>\n",
       "      <td>16</td>\n",
       "      <td>18</td>\n",
       "    </tr>\n",
       "  </tbody>\n",
       "</table>\n",
       "</div>"
      ],
      "text/plain": [
       "converted           no  yes\n",
       "language_preferred         \n",
       "English             11   21\n",
       "French              19   15\n",
       "Spanish             16   18"
      ]
     },
     "execution_count": 346,
     "metadata": {},
     "output_type": "execute_result"
    }
   ],
   "source": [
    "#Contingency table for Chi-Square Test\n",
    "Contin_Table = pd.crosstab(df['language_preferred'], df['converted'])\n",
    "Contin_Table"
   ]
  },
  {
   "cell_type": "markdown",
   "id": "6e1440a8",
   "metadata": {
    "id": "f5c5258d"
   },
   "source": [
    "### Step 5: Calculate the p-value"
   ]
  },
  {
   "cell_type": "code",
   "execution_count": 347,
   "id": "89b43c48",
   "metadata": {},
   "outputs": [
    {
     "name": "stdout",
     "output_type": "stream",
     "text": [
      "The p-value is 0.2129888748754345\n"
     ]
    }
   ],
   "source": [
    "# complete the code to import the required function\n",
    "from scipy.stats import chi2_contingency\n",
    "\n",
    "# calculate the p-value through chi sqaure test\n",
    "chi2, p_value, dof, exp_freq = chi2_contingency(Contin_Table)  \n",
    "\n",
    "print('The p-value is', p_value)"
   ]
  },
  {
   "cell_type": "markdown",
   "id": "b56f0714",
   "metadata": {
    "id": "359b12f8"
   },
   "source": [
    "### Step 6: Compare the p-value with $\\alpha$"
   ]
  },
  {
   "cell_type": "code",
   "execution_count": 348,
   "id": "1f216ec8",
   "metadata": {},
   "outputs": [
    {
     "name": "stdout",
     "output_type": "stream",
     "text": [
      "As the 0.2129888748754345 is greater than the level of significance, we fail to reject the null hypothesis.\n"
     ]
    }
   ],
   "source": [
    "# print the conclusion based on p-value\n",
    "\n",
    "if p_value < 0.05:\n",
    "    print(f'As the {p_value} is less than the level of significance, we reject the null hypothesis.')\n",
    "else:\n",
    "    print(f'As the {p_value} is greater than the level of significance, we fail to reject the null hypothesis.')\n",
    "    "
   ]
  },
  {
   "cell_type": "markdown",
   "id": "cee18b26",
   "metadata": {
    "id": "d9affc84"
   },
   "source": [
    "### Step 7:  Draw inference"
   ]
  },
  {
   "cell_type": "markdown",
   "id": "56fd2ec7",
   "metadata": {},
   "source": [
    "At a 5% significance level, we fail to reject the null hypothesis. Hence, we have enough statistical evidence to say that the conversion and preferred language are independent of each other.\n"
   ]
  },
  {
   "cell_type": "markdown",
   "id": "8d585a90",
   "metadata": {
    "id": "8d585a90"
   },
   "source": [
    "## 4. Is the time spent on the new page same for the different language users?"
   ]
  },
  {
   "cell_type": "markdown",
   "id": "b515bfa1",
   "metadata": {
    "id": "b7f52898"
   },
   "source": [
    "### Perform Visual Analysis"
   ]
  },
  {
   "cell_type": "code",
   "execution_count": 350,
   "id": "4d547e8f",
   "metadata": {},
   "outputs": [
    {
     "data": {
      "text/html": [
       "<div>\n",
       "<style scoped>\n",
       "    .dataframe tbody tr th:only-of-type {\n",
       "        vertical-align: middle;\n",
       "    }\n",
       "\n",
       "    .dataframe tbody tr th {\n",
       "        vertical-align: top;\n",
       "    }\n",
       "\n",
       "    .dataframe thead th {\n",
       "        text-align: right;\n",
       "    }\n",
       "</style>\n",
       "<table border=\"1\" class=\"dataframe\">\n",
       "  <thead>\n",
       "    <tr style=\"text-align: right;\">\n",
       "      <th></th>\n",
       "      <th>user_id</th>\n",
       "      <th>group</th>\n",
       "      <th>landing_page</th>\n",
       "      <th>time_spent_on_the_page</th>\n",
       "      <th>converted</th>\n",
       "      <th>language_preferred</th>\n",
       "    </tr>\n",
       "  </thead>\n",
       "  <tbody>\n",
       "    <tr>\n",
       "      <th>1</th>\n",
       "      <td>546468</td>\n",
       "      <td>treatment</td>\n",
       "      <td>new</td>\n",
       "      <td>7.13</td>\n",
       "      <td>yes</td>\n",
       "      <td>English</td>\n",
       "    </tr>\n",
       "    <tr>\n",
       "      <th>2</th>\n",
       "      <td>546462</td>\n",
       "      <td>treatment</td>\n",
       "      <td>new</td>\n",
       "      <td>4.40</td>\n",
       "      <td>no</td>\n",
       "      <td>Spanish</td>\n",
       "    </tr>\n",
       "    <tr>\n",
       "      <th>4</th>\n",
       "      <td>546459</td>\n",
       "      <td>treatment</td>\n",
       "      <td>new</td>\n",
       "      <td>4.75</td>\n",
       "      <td>yes</td>\n",
       "      <td>Spanish</td>\n",
       "    </tr>\n",
       "    <tr>\n",
       "      <th>6</th>\n",
       "      <td>546448</td>\n",
       "      <td>treatment</td>\n",
       "      <td>new</td>\n",
       "      <td>5.25</td>\n",
       "      <td>yes</td>\n",
       "      <td>French</td>\n",
       "    </tr>\n",
       "    <tr>\n",
       "      <th>8</th>\n",
       "      <td>546461</td>\n",
       "      <td>treatment</td>\n",
       "      <td>new</td>\n",
       "      <td>10.71</td>\n",
       "      <td>yes</td>\n",
       "      <td>French</td>\n",
       "    </tr>\n",
       "  </tbody>\n",
       "</table>\n",
       "</div>"
      ],
      "text/plain": [
       "   user_id      group landing_page  time_spent_on_the_page converted  \\\n",
       "1   546468  treatment          new                    7.13       yes   \n",
       "2   546462  treatment          new                    4.40        no   \n",
       "4   546459  treatment          new                    4.75       yes   \n",
       "6   546448  treatment          new                    5.25       yes   \n",
       "8   546461  treatment          new                   10.71       yes   \n",
       "\n",
       "  language_preferred  \n",
       "1            English  \n",
       "2            Spanish  \n",
       "4            Spanish  \n",
       "6             French  \n",
       "8             French  "
      ]
     },
     "execution_count": 350,
     "metadata": {},
     "output_type": "execute_result"
    }
   ],
   "source": [
    "#new dataframe with new landing page \n",
    "dfnew = df.loc[df['landing_page'] == 'new']\n",
    "dfnew.head()"
   ]
  },
  {
   "cell_type": "code",
   "execution_count": 352,
   "id": "e52bae28",
   "metadata": {},
   "outputs": [
    {
     "data": {
      "text/plain": [
       "(50, 6)"
      ]
     },
     "execution_count": 352,
     "metadata": {},
     "output_type": "execute_result"
    }
   ],
   "source": [
    "dfnew.shape"
   ]
  },
  {
   "cell_type": "code",
   "execution_count": 354,
   "id": "5240e3f5",
   "metadata": {},
   "outputs": [
    {
     "data": {
      "image/png": "[encoded data removed]",
      "text/plain": [
       "<Figure size 700x400 with 1 Axes>"
      ]
     },
     "metadata": {},
     "output_type": "display_data"
    },
    {
     "data": {
      "image/png": "[encoded data removed]",
      "text/plain": [
       "<Figure size 700x400 with 1 Axes>"
      ]
     },
     "metadata": {},
     "output_type": "display_data"
    }
   ],
   "source": [
    "# Breaking the distribution of time wrt to new landing page\n",
    "plt.figure(figsize = (7,4))\n",
    "plt.title('Languague Preferred vs Time spent on new page', fontsize = 13)\n",
    "sns.stripplot(data=dfnew, x='language_preferred', y= 'time_spent_on_the_page', palette = 'bright');\n",
    "plt.show()\n",
    "plt.figure(figsize= (7,4));\n",
    "sns.boxplot(data=dfnew,x='language_preferred', y = 'time_spent_on_the_page', palette = 'bright');\n"
   ]
  },
  {
   "cell_type": "code",
   "execution_count": 355,
   "id": "179f21a6",
   "metadata": {},
   "outputs": [
    {
     "data": {
      "text/plain": [
       "language_preferred\n",
       "English    3.65\n",
       "French     3.30\n",
       "Spanish    1.65\n",
       "Name: time_spent_on_the_page, dtype: float64"
      ]
     },
     "execution_count": 355,
     "metadata": {},
     "output_type": "execute_result"
    }
   ],
   "source": [
    "dfnew.groupby(['language_preferred']).time_spent_on_the_page.min()"
   ]
  },
  {
   "cell_type": "code",
   "execution_count": 356,
   "id": "8814a1e5",
   "metadata": {},
   "outputs": [
    {
     "data": {
      "text/plain": [
       "language_preferred\n",
       "English    10.50\n",
       "French     10.71\n",
       "Spanish     8.08\n",
       "Name: time_spent_on_the_page, dtype: float64"
      ]
     },
     "execution_count": 356,
     "metadata": {},
     "output_type": "execute_result"
    }
   ],
   "source": [
    "dfnew.groupby(['language_preferred']).time_spent_on_the_page.max()"
   ]
  },
  {
   "cell_type": "code",
   "execution_count": 357,
   "id": "8671008f",
   "metadata": {},
   "outputs": [
    {
     "data": {
      "text/plain": [
       "language_preferred\n",
       "English    6.663750\n",
       "French     6.196471\n",
       "Spanish    5.835294\n",
       "Name: time_spent_on_the_page, dtype: float64"
      ]
     },
     "execution_count": 357,
     "metadata": {},
     "output_type": "execute_result"
    }
   ],
   "source": [
    "dfnew.groupby(['language_preferred']).time_spent_on_the_page.mean()"
   ]
  },
  {
   "cell_type": "code",
   "execution_count": 358,
   "id": "2a77d97a",
   "metadata": {},
   "outputs": [
    {
     "data": {
      "text/plain": [
       "language_preferred\n",
       "English    6.865\n",
       "French     5.420\n",
       "Spanish    6.200\n",
       "Name: time_spent_on_the_page, dtype: float64"
      ]
     },
     "execution_count": 358,
     "metadata": {},
     "output_type": "execute_result"
    }
   ],
   "source": [
    "dfnew.groupby(['language_preferred']).time_spent_on_the_page.median()"
   ]
  },
  {
   "cell_type": "markdown",
   "id": "f73fc06e",
   "metadata": {},
   "source": [
    "Objective:\n",
    "    \n",
    "1. The data for the new french landing page is heavily right skewed with a median time of 5.42 mins lower than the mean of 6.19 mins.\n",
    "2. The data for new english and spanish landing pages are left skewed.\n",
    "3. There are outliers in spanish and french webpage distributions.\n",
    "4. The distribution of time spent on spanish webpage is from 3.9 mins to 8 mins.\n",
    "5. The mean and median time spent on english webpage is 6.66 mins and 6.86 mins.\n",
    "6. The mean time spent on the Spanish landing page is 5.83 mins lower than the median of 6.2 mins. \n",
    "7. The minimum time spent on an english page is 3.65 mins and 50% of users have spent more than 6.8 mins on the webpage.\n",
    "8. The maximum time spent on a spanish page is 8.08 mins and 75% of users have spent less than 6.5 mins on webpage.\n",
    "9. The median time spent on a french page is 5.42 mins, quite low compared to other 2 languages.\n",
    "\n",
    "Inference\n",
    "We can infer that time spent on the new page varies according to the language of the webpage. If the difference is significant enough to conclude that language preference has an impact on the time spent on the webpage.\n"
   ]
  },
  {
   "cell_type": "markdown",
   "id": "a05477cc",
   "metadata": {
    "id": "56b3dafd"
   },
   "source": [
    "### Step 1: Define the null and alternate hypotheses"
   ]
  },
  {
   "cell_type": "markdown",
   "id": "49f6378f",
   "metadata": {},
   "source": [
    "Let μ1, μ2, μ3 be the mean time spent for different languague new page\n",
    "\n",
    "𝜇1 = Mean time spent on French page\n",
    "\n",
    "𝜇2 = Mean time spent on English page\n",
    "\n",
    "𝜇3 = Mean time spent on Spanish page\n",
    "\n",
    "Null Hypothesis:\n",
    "\n",
    "$H_0:$ \n",
    " 𝜇1 = 𝜇2 = 𝜇3\n",
    "\n",
    "Alternate Hypothesis:\n",
    "\n",
    "$H_a:$ \n",
    " Atleast one of the mean time is different"
   ]
  },
  {
   "cell_type": "markdown",
   "id": "374cffe1",
   "metadata": {
    "id": "c7ee4907"
   },
   "source": [
    "### Step 2: Select Appropriate test"
   ]
  },
  {
   "cell_type": "markdown",
   "id": "86180781",
   "metadata": {},
   "source": [
    "The problem consists of three population means therefore one way Anova can be used."
   ]
  },
  {
   "cell_type": "markdown",
   "id": "6006d187",
   "metadata": {},
   "source": [
    "#### Assumptions"
   ]
  },
  {
   "cell_type": "markdown",
   "id": "d667b5a0",
   "metadata": {
    "id": "b422f395"
   },
   "source": [
    "1. As proven above the data is independent and randomly selected.\n",
    "2. The normality and equality of variance assumptions need to be checked.\n",
    "3. For testing of normality, Shapiro-Wilk’s test is applied to the response variable.\n",
    "4. For equality of variance, Levene test is applied to the response variable."
   ]
  },
  {
   "cell_type": "markdown",
   "id": "0b51879c",
   "metadata": {
    "id": "3f58c9a7"
   },
   "source": [
    "### Step 3: Prepare data with normality and variance test"
   ]
  },
  {
   "cell_type": "markdown",
   "id": "f76b789d",
   "metadata": {},
   "source": [
    "#### Shapiro-Wilk’s test"
   ]
  },
  {
   "cell_type": "markdown",
   "id": "1520f5b9",
   "metadata": {},
   "source": [
    "Null Hypothesis:\n",
    "\n",
    "$H_0:$ \n",
    "Time_spent follows a normal distribution \n",
    "\n",
    "Alternate Hypothesis:\n",
    "\n",
    "$H_a:$ \n",
    "Time_spent does not follows the  normal distribution"
   ]
  },
  {
   "cell_type": "code",
   "execution_count": 359,
   "id": "c7e95cb2",
   "metadata": {},
   "outputs": [
    {
     "name": "stdout",
     "output_type": "stream",
     "text": [
      "The p-value is 0.5643193125724792\n"
     ]
    }
   ],
   "source": [
    "# Assumption 1: Normality\n",
    "# import the required function\n",
    "from scipy import stats\n",
    "\n",
    "# find the p-value\n",
    "w, p_value = stats.shapiro(df['time_spent_on_the_page']) \n",
    "print('The p-value is', p_value)"
   ]
  },
  {
   "cell_type": "markdown",
   "id": "f99e98e0",
   "metadata": {},
   "source": [
    "Observation:\n",
    "\n",
    "The p-value of the test is .56, we fail to reject the null hypothesis that time_spent follows the normal distribution."
   ]
  },
  {
   "cell_type": "markdown",
   "id": "a5d0ce22",
   "metadata": {},
   "source": [
    "#### Levene test"
   ]
  },
  {
   "cell_type": "markdown",
   "id": "7c4c36e1",
   "metadata": {},
   "source": [
    "Null Hypothesis:\n",
    "\n",
    "$H_0:$ \n",
    "All the population variances are equal\n",
    "\n",
    "Alternate Hypothesis:\n",
    "\n",
    "$H_a:$ \n",
    "Atleast one variance is different from rest"
   ]
  },
  {
   "cell_type": "code",
   "execution_count": 370,
   "id": "f97f8323",
   "metadata": {},
   "outputs": [
    {
     "name": "stdout",
     "output_type": "stream",
     "text": [
      "The p-value is 0.46711357711340173\n"
     ]
    }
   ],
   "source": [
    "#Assumption 2: Homogeneity of Variance\n",
    "#import the required function\n",
    "from scipy.stats import levene\n",
    "statistic, p_value = levene( dfnew.loc[dfnew['language_preferred'] == 'English','time_spent_on_the_page'], \n",
    "                                   dfnew.loc[dfnew['language_preferred'] == 'Spanish','time_spent_on_the_page'], \n",
    "                                   dfnew.loc[dfnew['language_preferred'] == 'French','time_spent_on_the_page'])\n",
    "# find the p-value\n",
    "print('The p-value is', p_value)"
   ]
  },
  {
   "cell_type": "markdown",
   "id": "8e323324",
   "metadata": {},
   "source": [
    "Obeservation:\n",
    "\n",
    "The p-value is .467 quite large, and therefore we fail to reject the null hypothesis of homogeneity of variances."
   ]
  },
  {
   "cell_type": "markdown",
   "id": "3eff88bd",
   "metadata": {
    "id": "3f58c9a7"
   },
   "source": [
    "### Step 4: Decide the significance level"
   ]
  },
  {
   "cell_type": "markdown",
   "id": "5be85e18",
   "metadata": {},
   "source": [
    " we select α = 0.05.\n"
   ]
  },
  {
   "cell_type": "markdown",
   "id": "5e4cc63f",
   "metadata": {
    "id": "f5c5258d"
   },
   "source": [
    "### Step 5: Calculate the p-value"
   ]
  },
  {
   "cell_type": "code",
   "execution_count": 371,
   "id": "58445c34",
   "metadata": {},
   "outputs": [
    {
     "name": "stdout",
     "output_type": "stream",
     "text": [
      "The p-value is 0.43204138694325955\n"
     ]
    }
   ],
   "source": [
    "#import the required function\n",
    "from scipy.stats import f_oneway\n",
    "\n",
    "# perform one-way anova test\n",
    "test_stat, p_value = f_oneway(dfnew[dfnew['language_preferred'] == 'English']['time_spent_on_the_page'],\n",
    "                                    dfnew[dfnew['language_preferred'] == 'Spanish']['time_spent_on_the_page'],\n",
    "                             dfnew[dfnew['language_preferred'] == 'French']['time_spent_on_the_page'])\n",
    "print('The p-value is ' + str(p_value))"
   ]
  },
  {
   "cell_type": "markdown",
   "id": "52469176",
   "metadata": {
    "id": "359b12f8"
   },
   "source": [
    "### Step 6: Compare the p-value with $\\alpha$"
   ]
  },
  {
   "cell_type": "code",
   "execution_count": 364,
   "id": "d2be3b72",
   "metadata": {},
   "outputs": [
    {
     "name": "stdout",
     "output_type": "stream",
     "text": [
      "As the 0.43204138694325955 is greater than the level of significance, we fail to reject the null hypothesis.\n"
     ]
    }
   ],
   "source": [
    "# print the conclusion based on p-value\n",
    "\n",
    "if p_value < 0.05:\n",
    "    print(f'As the {p_value} is less than the level of significance, we reject the null hypothesis.')\n",
    "else:\n",
    "    print(f'As the {p_value} is greater than the level of significance, we fail to reject the null hypothesis.')\n",
    "    "
   ]
  },
  {
   "cell_type": "markdown",
   "id": "76c9c4fb",
   "metadata": {
    "id": "d9affc84"
   },
   "source": [
    "### Step 7:  Draw inference"
   ]
  },
  {
   "cell_type": "markdown",
   "id": "155a2114",
   "metadata": {},
   "source": [
    "At a 5% significance level, we fail to reject the null hypothesis. Therefore, null hyopthesis is true and mean time spent on the new page is same for the different language users."
   ]
  },
  {
   "cell_type": "markdown",
   "id": "3acbc947",
   "metadata": {
    "id": "3acbc947"
   },
   "source": [
    "## Conclusion and Business Recommendations"
   ]
  },
  {
   "cell_type": "markdown",
   "id": "65e5bfcc",
   "metadata": {},
   "source": [
    "#### Conclusions\n",
    "\n",
    "--------------------------------------------------------------------------------------------------------------------------"
   ]
  },
  {
   "cell_type": "markdown",
   "id": "9fe3305f",
   "metadata": {
    "id": "21fb1063"
   },
   "source": [
    "\n",
    "1. The experiment is conducted by selecting 100 users and dividing them equally into two groups. The existing landing page was served to the first group (control group) and the new landing page to the second group (treatment group).\n",
    "2. The time spent on a website ranges from .19 mins to 10.71 mins with 25% of users having spent more than 7.022 mins on it. \n",
    "3. The maximum number of users, at least 17, have spent around 6 mins on the webpage.\n",
    "4. The mean time spent on a new page is 6.22 mins, quite higher than 4.5 mins of the old page. It clearly shows average users are spending higher time on the new page as compared to the old landing page.\n",
    "5. Atleast 75% of users landing on a new webpage have spent 5 mins more on it.\n",
    "6. Apart from outliers, the minimum time spent on a new page is around 3 mins, significantly higher than .19 mins for the old page.\n",
    "7. Total number of users that get converted to a subscriber of the news portal is 54. The difference in users that converted to subscribers is only slightly higher (8 users) than non-subscriber. \n",
    "8. Higher time spent (atleast 5 mins ) on a page can significantly increase the chances of subscription of the user.\n",
    "9. There is a higher conversion rate to subscription for the new page as compared to the old page. \n",
    "10. The landing webpage in languages Spanish or French are visited a little more (34 times) than english (32 times).\n",
    "11. The time spent on english or french pages is widely distributed from .19 mins to 10.7 mins.\n",
    "\n",
    "\n",
    "Conclusions from Univariate and bivariate analysis but failed to prove statistically:\n",
    "1. We can conclude that the conversion rate of subscription depends upon preferred language. There are high chances that English users will be converted into subscribers as compared to other 2 languages.\n",
    "2. The conversion of french page users into a subscriber is comparatively low as compared to spanish or english pages.\n",
    "3. The portal should focus more on news designed to target English and Spanish users, as there are high chances of them subscribing for the service.\n",
    "4. The minimum time spent on an english page is 3.65 mins and 50% of users have spent more than 6.8 mins on the webpage.\n",
    "5. The maximum time spent on a spanish page is 8.08 mins and 75% of users have spent less than 6.5 mins on webpage.\n",
    "6. Most users who prefer spanish pages usually stay on websites from 3.5 to 7.5 mins only and probably less interested in news portals or have low attention span as compared to english or french users.\n",
    "\n",
    "\n",
    "\n",
    "\n",
    "\n",
    "\n"
   ]
  },
  {
   "cell_type": "markdown",
   "id": "46bb81c0",
   "metadata": {},
   "source": [
    "#### Business Recommedations\n",
    "\n",
    "----------------------------------------------------------------------------------------------------------------------------"
   ]
  },
  {
   "cell_type": "markdown",
   "id": "b1868af2",
   "metadata": {},
   "source": [
    "1. We do have enough statistical evidence to say that the average time spent on a new page is significantly higher than the old page. More than 75% of users have spent atleast 5 mins on a new webpage. Therefore the new webpage is performing better in terms of \"engagement\" in comparison with the old page.\n",
    "\n",
    "2. As more time spent (atleast 5 mins) on a page can increase the chances of subscription from the respective user. Atleast More 75% of users have spent more than 5 mins on the  new webpage.\n",
    "\n",
    "3. We do have enough statistical evidence to say that rate of users converted to subscriber for new page is higher than old page. As more people are subscribing to the service after landing on the new page, it is performing better in terms of \"conversion rate\" as compared to the old page.\n",
    "\n",
    "4. With bivariate analysis we concluded chances of English users being converted into subscribers are much more than that of french users. But, statistical hypothesis testing failed to prove it for this data set. Therefore we do not have enough evidence to conclude that the conversion rate of subscription depends on the language of the webpage. \n",
    "\n",
    "5. Similarly, we failed to prove (through hypothesis testing), that mean time spent on the new page varies according to the language of the webpage. As the data set for this study is quite small with 50 samples only, this hypothesis needs further investigation with a larger data set. More research is required and larger data sets need to be analyzed for time spent on different languages webpages for better conclusive results. \n"
   ]
  },
  {
   "cell_type": "markdown",
   "id": "U0dAd4i0iCHo",
   "metadata": {
    "id": "U0dAd4i0iCHo"
   },
   "source": [
    "___"
   ]
  }
 ],
 "metadata": {
  "colab": {
   "collapsed_sections": [
    "a6a3d218",
    "6970dd99",
    "9d75cfa2",
    "68f3b2c9",
    "fad2de2f",
    "27906576",
    "e5fdf0c8",
    "56b3dafd",
    "c7ee4907",
    "3f58c9a7",
    "5fed2eac",
    "f5c5258d",
    "359b12f8",
    "d9affc84",
    "353e9d24",
    "d49bfa2d",
    "8d585a90",
    "3acbc947"
   ],
   "name": "ENews_Express_Learner_Notebook_Full_Code v1.1.ipynb",
   "provenance": []
  },
  "kernelspec": {
   "display_name": "Python 3 (ipykernel)",
   "language": "python",
   "name": "python3"
  },
  "language_info": {
   "codemirror_mode": {
    "name": "ipython",
    "version": 3
   },
   "file_extension": ".py",
   "mimetype": "text/x-python",
   "name": "python",
   "nbconvert_exporter": "python",
   "pygments_lexer": "ipython3",
   "version": "3.10.9"
  }
 },
 "nbformat": 4,
 "nbformat_minor": 5
}
